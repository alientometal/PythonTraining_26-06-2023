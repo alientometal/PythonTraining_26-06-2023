{
 "cells": [
  {
   "attachments": {},
   "cell_type": "markdown",
   "metadata": {},
   "source": [
    "# Working with dates and times in Python using `datetime`\n",
    "\n",
    "Python provides the `datetime` module in the standard library to work with dates and times. This module supplies classes for manipulating dates and times.\n",
    "\n",
    "Let's start with the basics.\n",
    "\n",
    "### Import the datetime module\n",
    "\n",
    "You'll want to import the datetime module to work with it:\n"
   ]
  },
  {
   "cell_type": "code",
   "execution_count": 1,
   "metadata": {},
   "outputs": [],
   "source": [
    "import datetime"
   ]
  },
  {
   "attachments": {},
   "cell_type": "markdown",
   "metadata": {},
   "source": [
    "\n",
    "### Get the current date and time\n",
    "\n",
    "To get the current date and time, use the `datetime.now()` function:\n"
   ]
  },
  {
   "cell_type": "code",
   "execution_count": 2,
   "metadata": {},
   "outputs": [
    {
     "name": "stdout",
     "output_type": "stream",
     "text": [
      "2023-06-29 15:58:59.027154\n"
     ]
    }
   ],
   "source": [
    "current_datetime = datetime.datetime.now()\n",
    "print(current_datetime)"
   ]
  },
  {
   "attachments": {},
   "cell_type": "markdown",
   "metadata": {},
   "source": [
    "\n",
    "### Get the current date\n",
    "\n",
    "If you want to get only the current date, use the `date.today()` function:\n"
   ]
  },
  {
   "cell_type": "code",
   "execution_count": 3,
   "metadata": {},
   "outputs": [
    {
     "name": "stdout",
     "output_type": "stream",
     "text": [
      "2023-06-29\n"
     ]
    }
   ],
   "source": [
    "current_date = datetime.date.today()\n",
    "print(current_date)"
   ]
  },
  {
   "attachments": {},
   "cell_type": "markdown",
   "metadata": {},
   "source": [
    "\n",
    "### Create a specific date or datetime\n",
    "\n",
    "You can create a specific date or datetime by passing in the year, month, and day as arguments:\n"
   ]
  },
  {
   "cell_type": "code",
   "execution_count": 4,
   "metadata": {},
   "outputs": [
    {
     "name": "stdout",
     "output_type": "stream",
     "text": [
      "2022-05-25\n",
      "2022-05-25 15:30:00\n"
     ]
    }
   ],
   "source": [
    "specific_date = datetime.date(2022, 5, 25)\n",
    "print(specific_date)\n",
    "\n",
    "specific_datetime = datetime.datetime(2022, 5, 25, 15, 30)\n",
    "print(specific_datetime)"
   ]
  },
  {
   "attachments": {},
   "cell_type": "markdown",
   "metadata": {},
   "source": [
    "\n",
    "### Working with datetime components\n",
    "\n",
    "You can extract the components of a datetime object like this:\n"
   ]
  },
  {
   "cell_type": "code",
   "execution_count": 5,
   "metadata": {},
   "outputs": [
    {
     "name": "stdout",
     "output_type": "stream",
     "text": [
      "Year: 2023\n",
      "Month: 6\n",
      "Day: 29\n",
      "Hour: 15\n",
      "Minute: 59\n",
      "Second: 57\n"
     ]
    }
   ],
   "source": [
    "current_datetime = datetime.datetime.now()\n",
    "\n",
    "print('Year:', current_datetime.year)\n",
    "print('Month:', current_datetime.month)\n",
    "print('Day:', current_datetime.day)\n",
    "print('Hour:', current_datetime.hour)\n",
    "print('Minute:', current_datetime.minute)\n",
    "print('Second:', current_datetime.second)"
   ]
  },
  {
   "attachments": {},
   "cell_type": "markdown",
   "metadata": {},
   "source": [
    "\n",
    "### Time Delta\n",
    "\n",
    "`datetime.timedelta` is a duration expressing the difference between two dates or time. You can use it to add or subtract from a datetime object.\n"
   ]
  },
  {
   "cell_type": "code",
   "execution_count": 6,
   "metadata": {},
   "outputs": [
    {
     "name": "stdout",
     "output_type": "stream",
     "text": [
      "2023-06-30 16:00:22.443691\n",
      "2023-06-22 16:00:22.443691\n"
     ]
    }
   ],
   "source": [
    "one_day = datetime.timedelta(days=1)\n",
    "tomorrow = datetime.datetime.now() + one_day\n",
    "print(tomorrow)\n",
    "\n",
    "one_week_ago = datetime.datetime.now() - datetime.timedelta(weeks=1)\n",
    "print(one_week_ago)"
   ]
  },
  {
   "attachments": {},
   "cell_type": "markdown",
   "metadata": {},
   "source": [
    "\n",
    "### Formatting datetime objects\n",
    "\n",
    "You can convert a datetime object into a string with a specific format using the `strftime` method:\n"
   ]
  },
  {
   "cell_type": "code",
   "execution_count": 7,
   "metadata": {},
   "outputs": [
    {
     "name": "stdout",
     "output_type": "stream",
     "text": [
      "2023-06-29 16:00:56\n",
      "29/06/2023\n"
     ]
    }
   ],
   "source": [
    "current_datetime = datetime.datetime.now()\n",
    "\n",
    "formatted_datetime = current_datetime.strftime('%Y-%m-%d %H:%M:%S')\n",
    "print(formatted_datetime)\n",
    "\n",
    "formatted_date = current_datetime.strftime('%d/%m/%Y')\n",
    "print(formatted_date)"
   ]
  },
  {
   "attachments": {},
   "cell_type": "markdown",
   "metadata": {},
   "source": [
    "\n",
    "### Parsing strings into datetime objects\n",
    "\n",
    "You can convert a string into a datetime object using the `strptime` function:\n"
   ]
  },
  {
   "cell_type": "code",
   "execution_count": 8,
   "metadata": {},
   "outputs": [
    {
     "name": "stdout",
     "output_type": "stream",
     "text": [
      "2022-05-25 15:30:00\n"
     ]
    }
   ],
   "source": [
    "date_string = '2022-05-25 15:30:00'\n",
    "parsed_datetime = datetime.datetime.strptime(date_string, '%Y-%m-%d %H:%M:%S')\n",
    "\n",
    "print(parsed_datetime)"
   ]
  },
  {
   "attachments": {},
   "cell_type": "markdown",
   "metadata": {},
   "source": [
    "> Content created by [**Carlos Cruz-Maldonado**](https://www.linkedin.com/in/carloscruzmaldonado/).  \n",
    "> I am available to answer any questions or provide further assistance.   \n",
    "> Feel free to reach out to me at any time."
   ]
  }
 ],
 "metadata": {
  "kernelspec": {
   "display_name": "personal",
   "language": "python",
   "name": "python3"
  },
  "language_info": {
   "codemirror_mode": {
    "name": "ipython",
    "version": 3
   },
   "file_extension": ".py",
   "mimetype": "text/x-python",
   "name": "python",
   "nbconvert_exporter": "python",
   "pygments_lexer": "ipython3",
   "version": "3.9.12"
  },
  "orig_nbformat": 4
 },
 "nbformat": 4,
 "nbformat_minor": 2
}
