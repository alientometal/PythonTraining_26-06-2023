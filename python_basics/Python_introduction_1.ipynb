{
 "cells": [
  {
   "attachments": {},
   "cell_type": "markdown",
   "metadata": {},
   "source": [
    "# Main Python built-in Data Types\n",
    "\n",
    "There are different data types in Python (click on the link for more information about the data type) and [here](https://docs.python.org/3/library/stdtypes.html) for the full list:\n",
    "\n",
    "- [Numeric Type](http://thepythonguru.com/python-numbers/)  \n",
    "    - Integer \n",
    "    - Float  \n",
    "    - Complex Number  \n",
    "- [Sequence Type](https://docs.python.org/3/library/stdtypes.html#sequence-types-list-tuple-range)\n",
    "  - [List](http://thepythonguru.c\"om/python-lists/)\n",
    "  - [Tuple](http://thepythonguru.com/python-tuples/)\n",
    "  - Range\n",
    "- [Text Sequence Type](https://docs.python.org/3/library/stdtypes.html#text-sequence-type-str)\n",
    "  - [String](http://thepythonguru.com/python-strings/)\n",
    "- [Set Type](https://docs.python.org/3/library/stdtypes.html#set-types-set-frozenset)\n",
    "  - Set\n",
    "- [Mapping Type](https://docs.python.org/3/library/stdtypes.html#mapping-types-dict)\n",
    "  - [Dictionary](http://thepythonguru.com/python-dictionaries/)\n",
    "- Boolean Values\n",
    "  - Bool\n",
    "\n",
    "\n",
    "Useful type related built-in function:\n",
    "- `type()` *is used to determine the type of data type.*  [read more](https://docs.python.org/3/library/functions.html#type)\n",
    "\n",
    "\n",
    "\n",
    "To get the type of a variable, we can use the `type()` function and pass as parameter the variable we want to know.\n",
    "Example:"
   ]
  },
  {
   "attachments": {},
   "cell_type": "markdown",
   "metadata": {},
   "source": [
    "**What will happen if I execute the following block of code?**"
   ]
  },
  {
   "cell_type": "code",
   "execution_count": 1,
   "metadata": {},
   "outputs": [
    {
     "data": {
      "text/plain": [
       "str"
      ]
     },
     "execution_count": 1,
     "metadata": {},
     "output_type": "execute_result"
    }
   ],
   "source": [
    "my_dog = \"Nova\"\n",
    "type(my_dog)"
   ]
  },
  {
   "attachments": {},
   "cell_type": "markdown",
   "metadata": {},
   "source": [
    "# Type Casting\n",
    "\n",
    "Type casting, also known as type conversion, is the process of converting a value from one data type to another. In Python, you can perform type casting using built-in functions, such as int(), float(), str(), list(), tuple(), and set().\n",
    "\n",
    "Examples:"
   ]
  },
  {
   "cell_type": "code",
   "execution_count": 3,
   "metadata": {},
   "outputs": [
    {
     "name": "stdout",
     "output_type": "stream",
     "text": [
      "3\n"
     ]
    }
   ],
   "source": [
    "# Casting float to int\n",
    "float_number = 3.14\n",
    "int_number = int(float_number)  # Result: 3\n",
    "print(int_number)"
   ]
  },
  {
   "cell_type": "code",
   "execution_count": 4,
   "metadata": {},
   "outputs": [
    {
     "name": "stdout",
     "output_type": "stream",
     "text": [
      "5.0\n"
     ]
    }
   ],
   "source": [
    "# Casting int to float\n",
    "int_number = 5\n",
    "float_number = float(int_number)  # Result: 5.0\n",
    "print(float_number)"
   ]
  },
  {
   "cell_type": "code",
   "execution_count": 5,
   "metadata": {},
   "outputs": [
    {
     "name": "stdout",
     "output_type": "stream",
     "text": [
      "42.0\n"
     ]
    }
   ],
   "source": [
    "# Casting float to string\n",
    "float_number = 42.0\n",
    "string_number = str(float_number)\n",
    "print(string_number)"
   ]
  },
  {
   "cell_type": "code",
   "execution_count": 6,
   "metadata": {},
   "outputs": [
    {
     "data": {
      "text/plain": [
       "'42.0'"
      ]
     },
     "execution_count": 6,
     "metadata": {},
     "output_type": "execute_result"
    }
   ],
   "source": [
    "string_number"
   ]
  },
  {
   "attachments": {},
   "cell_type": "markdown",
   "metadata": {},
   "source": [
    "### Question: What will happen if we cast string to `list`, `tuple` or `set`?"
   ]
  },
  {
   "cell_type": "code",
   "execution_count": 9,
   "metadata": {},
   "outputs": [
    {
     "data": {
      "text/plain": [
       "{'.', '0', '2', '4'}"
      ]
     },
     "execution_count": 9,
     "metadata": {},
     "output_type": "execute_result"
    }
   ],
   "source": [
    "set(string_number)"
   ]
  },
  {
   "attachments": {},
   "cell_type": "markdown",
   "metadata": {},
   "source": [
    "# Type Mutability\n",
    "\n",
    "Mutability refers to the ability of an object to change its state or content after it has been created.  \n",
    "\n",
    "- **Mutable objects**: These are objects whose content or state can be changed after they are created. Examples include **lists**, **sets**, and **dictionaries**. \n",
    "\n",
    "- **Immutable objects**: These are objects whose content or state cannot be changed after they are created. Examples include **integers**, **floats**, **strings**, **booleans**, **tuples**, and **frozen sets**."
   ]
  },
  {
   "attachments": {},
   "cell_type": "markdown",
   "metadata": {},
   "source": [
    "# Strings -> `str`  \n",
    "**Strings are sequences of characters. In Python, strings are immutable.** \n",
    " \n",
    "The object (data type) string is very important for data analysis. It has a number of important and very useful methods for string processing and parsing, and there is a package (called re) for string support for <a href= http://www.rexegg.com/regex-quickstart.html>regular expressions</a>  \n",
    "\n",
    "Some common String object methods:\n",
    "\n",
    "`len(string)`: Returns the length of the string.  \n",
    "`string.upper()`: Returns a new string with all characters in uppercase.  \n",
    "`string.lower()`: Returns a new string with all characters in lowercase.  \n",
    "`string.replace(old, new)`: Returns a new string with all occurrences of old replaced with new.  \n",
    "`string.split(sep)`: Returns a list of substrings separated by the specified separator sep. If no separator is provided, it splits on whitespace.  "
   ]
  },
  {
   "cell_type": "code",
   "execution_count": 75,
   "metadata": {},
   "outputs": [],
   "source": [
    "empty_string = ''"
   ]
  },
  {
   "cell_type": "code",
   "execution_count": 76,
   "metadata": {},
   "outputs": [
    {
     "data": {
      "text/plain": [
       "0"
      ]
     },
     "execution_count": 76,
     "metadata": {},
     "output_type": "execute_result"
    }
   ],
   "source": [
    "len(empty_string)"
   ]
  },
  {
   "cell_type": "code",
   "execution_count": 18,
   "metadata": {},
   "outputs": [],
   "source": [
    "string1 = \"Learning Python is fun\"# Define a test string"
   ]
  },
  {
   "cell_type": "code",
   "execution_count": 11,
   "metadata": {},
   "outputs": [
    {
     "data": {
      "text/plain": [
       "22"
      ]
     },
     "execution_count": 11,
     "metadata": {},
     "output_type": "execute_result"
    }
   ],
   "source": [
    "len(string1)"
   ]
  },
  {
   "cell_type": "code",
   "execution_count": 12,
   "metadata": {},
   "outputs": [
    {
     "data": {
      "text/plain": [
       "'LEARNING PYTHON IS FUN'"
      ]
     },
     "execution_count": 12,
     "metadata": {},
     "output_type": "execute_result"
    }
   ],
   "source": [
    "string1.upper()"
   ]
  },
  {
   "cell_type": "code",
   "execution_count": 14,
   "metadata": {},
   "outputs": [
    {
     "data": {
      "text/plain": [
       "'learning python is fun'"
      ]
     },
     "execution_count": 14,
     "metadata": {},
     "output_type": "execute_result"
    }
   ],
   "source": [
    "string1.lower()"
   ]
  },
  {
   "cell_type": "code",
   "execution_count": 17,
   "metadata": {},
   "outputs": [],
   "source": [
    "string1.title()"
   ]
  },
  {
   "cell_type": "code",
   "execution_count": 19,
   "metadata": {},
   "outputs": [],
   "source": [
    "string1 = string1.replace(\"fun\", \"nice\")"
   ]
  },
  {
   "cell_type": "code",
   "execution_count": 22,
   "metadata": {},
   "outputs": [
    {
     "data": {
      "text/plain": [
       "('Learning', 'Python', 'is', 'nice')"
      ]
     },
     "execution_count": 22,
     "metadata": {},
     "output_type": "execute_result"
    }
   ],
   "source": [
    "tuple(string1.split())"
   ]
  },
  {
   "attachments": {},
   "cell_type": "markdown",
   "metadata": {},
   "source": [
    "# Lists -> `list` or `[]`\n",
    "\n",
    "**Lists are ordered, mutable sequences of elements.**  \n",
    "\n",
    "`len(list)`: Returns the length of the list.  \n",
    "`list.append(item)`: Adds an item to the end of the list.  \n",
    "`list.extend(iterable)`: Appends the elements of an iterable (e.g., list, tuple, string) to the list.  \n",
    "`list.insert(index, item)`: Inserts an item at the specified index.  \n",
    "`list.remove(item)`: Removes the first occurrence of the specified item from the list.  \n",
    "`list.pop(index)`: Removes and returns the item at the specified index. If no index is provided, it removes and returns the last item in the list.  "
   ]
  },
  {
   "cell_type": "code",
   "execution_count": 73,
   "metadata": {},
   "outputs": [],
   "source": [
    "list2 = []"
   ]
  },
  {
   "cell_type": "code",
   "execution_count": 74,
   "metadata": {},
   "outputs": [
    {
     "data": {
      "text/plain": [
       "[1]"
      ]
     },
     "execution_count": 74,
     "metadata": {},
     "output_type": "execute_result"
    }
   ],
   "source": [
    "list2.append(1)\n",
    "list2"
   ]
  },
  {
   "cell_type": "code",
   "execution_count": 70,
   "metadata": {},
   "outputs": [],
   "source": [
    "# Indexing\n",
    "list1 = [1,2,3,4,5,6,7,8,9,10]\n",
    "        #0,1,2,3,4,5,6,7,8,9"
   ]
  },
  {
   "cell_type": "code",
   "execution_count": 49,
   "metadata": {},
   "outputs": [
    {
     "data": {
      "text/plain": [
       "[1, 2, 3, 4, 5, 6, 7, 8, 9, 10, 11]"
      ]
     },
     "execution_count": 49,
     "metadata": {},
     "output_type": "execute_result"
    }
   ],
   "source": [
    "list1.append(11)\n",
    "list1"
   ]
  },
  {
   "cell_type": "code",
   "execution_count": 50,
   "metadata": {},
   "outputs": [],
   "source": [
    "list1.extend([12, 13, 14, 15])"
   ]
  },
  {
   "cell_type": "code",
   "execution_count": 51,
   "metadata": {},
   "outputs": [],
   "source": [
    "list1.insert(4, \"five\")"
   ]
  },
  {
   "cell_type": "code",
   "execution_count": 52,
   "metadata": {},
   "outputs": [
    {
     "data": {
      "text/plain": [
       "[1, 2, 3, 4, 'five', 5, 6, 7, 8, 9, 10, 11, 12, 13, 14, 15]"
      ]
     },
     "execution_count": 52,
     "metadata": {},
     "output_type": "execute_result"
    }
   ],
   "source": [
    "list1"
   ]
  },
  {
   "cell_type": "code",
   "execution_count": 53,
   "metadata": {},
   "outputs": [
    {
     "data": {
      "text/plain": [
       "[1, 2, 3, 4, 'five', 6, 7, 8, 9, 10, 11, 12, 13, 14, 15]"
      ]
     },
     "execution_count": 53,
     "metadata": {},
     "output_type": "execute_result"
    }
   ],
   "source": [
    "list1.remove(5)\n",
    "list1"
   ]
  },
  {
   "cell_type": "code",
   "execution_count": 69,
   "metadata": {},
   "outputs": [
    {
     "ename": "IndexError",
     "evalue": "pop from empty list",
     "output_type": "error",
     "traceback": [
      "\u001b[1;31m---------------------------------------------------------------------------\u001b[0m",
      "\u001b[1;31mIndexError\u001b[0m                                Traceback (most recent call last)",
      "\u001b[1;32mc:\\Users\\2000076134\\OneDrive - Hexaware Technologies\\Documents\\GitHub\\PythonTraining_26-06-2023\\python_basics\\Python_introduction_1.ipynb Cell 27\u001b[0m in \u001b[0;36m<cell line: 1>\u001b[1;34m()\u001b[0m\n\u001b[1;32m----> <a href='vscode-notebook-cell:/c%3A/Users/2000076134/OneDrive%20-%20Hexaware%20Technologies/Documents/GitHub/PythonTraining_26-06-2023/python_basics/Python_introduction_1.ipynb#X52sZmlsZQ%3D%3D?line=0'>1</a>\u001b[0m list1\u001b[39m.\u001b[39;49mpop()\n\u001b[0;32m      <a href='vscode-notebook-cell:/c%3A/Users/2000076134/OneDrive%20-%20Hexaware%20Technologies/Documents/GitHub/PythonTraining_26-06-2023/python_basics/Python_introduction_1.ipynb#X52sZmlsZQ%3D%3D?line=1'>2</a>\u001b[0m list1\n",
      "\u001b[1;31mIndexError\u001b[0m: pop from empty list"
     ]
    }
   ],
   "source": [
    "list1.pop()\n",
    "list1"
   ]
  },
  {
   "cell_type": "code",
   "execution_count": 24,
   "metadata": {},
   "outputs": [
    {
     "data": {
      "text/plain": [
       "3"
      ]
     },
     "execution_count": 24,
     "metadata": {},
     "output_type": "execute_result"
    }
   ],
   "source": [
    "list1[2]"
   ]
  },
  {
   "cell_type": "code",
   "execution_count": 28,
   "metadata": {},
   "outputs": [
    {
     "data": {
      "text/plain": [
       "10"
      ]
     },
     "execution_count": 28,
     "metadata": {},
     "output_type": "execute_result"
    }
   ],
   "source": [
    "list1[ len(list1) - 1 ]"
   ]
  },
  {
   "cell_type": "code",
   "execution_count": 33,
   "metadata": {},
   "outputs": [
    {
     "data": {
      "text/plain": [
       "10"
      ]
     },
     "execution_count": 33,
     "metadata": {},
     "output_type": "execute_result"
    }
   ],
   "source": [
    "list1[-1]"
   ]
  },
  {
   "cell_type": "code",
   "execution_count": 38,
   "metadata": {},
   "outputs": [
    {
     "data": {
      "text/plain": [
       "[1, 2, 3, 4, 5, 6]"
      ]
     },
     "execution_count": 38,
     "metadata": {},
     "output_type": "execute_result"
    }
   ],
   "source": [
    "# Slicing\n",
    "start = 0\n",
    "end =  5\n",
    "step = 1\n",
    "\n",
    "list1[start:end:step]\n"
   ]
  },
  {
   "cell_type": "code",
   "execution_count": 40,
   "metadata": {},
   "outputs": [
    {
     "data": {
      "text/plain": [
       "[10, 9, 8, 7, 6, 5, 4, 3, 2, 1]"
      ]
     },
     "execution_count": 40,
     "metadata": {},
     "output_type": "execute_result"
    }
   ],
   "source": [
    "list1[::-1]"
   ]
  },
  {
   "attachments": {},
   "cell_type": "markdown",
   "metadata": {},
   "source": [
    "# Tuples -> `tuple` or `()`\n",
    "**Tuples are ordered, immutable sequences of elements.**  \n",
    "\n",
    "Tuples are relationships between two or more objects (like lists) however, once created, tuples cannot be modified, i.e. adding, deleting, etc. is not allowed. They can be useful when reading data and preserving their characteristics. \n",
    "\n",
    "`len(tuple)`: Returns the length of the tuple.  \n",
    "`tuple.index(item)`: Returns the index of the first occurrence of the specified item in the tuple. Raises a ValueError if the item is not found.  "
   ]
  },
  {
   "cell_type": "code",
   "execution_count": 77,
   "metadata": {},
   "outputs": [],
   "source": [
    "empty_tuple = ()"
   ]
  },
  {
   "cell_type": "code",
   "execution_count": null,
   "metadata": {},
   "outputs": [],
   "source": [
    "# Convert a list to a tuple and explore its methods\n",
    "# Try to apply the list methods to the tuple and explain"
   ]
  },
  {
   "attachments": {},
   "cell_type": "markdown",
   "metadata": {},
   "source": [
    "# Sets -> `set`  \n",
    "**Sets are unordered collections of unique elements.**  \n",
    "\n",
    "`len(set)`: Returns the number of elements in the set.  \n",
    "`set.add(item)`: Adds an item to the set.  \n",
    "`set.remove(item)`: Removes the specified item from the set. Raises a KeyError if the item is not found.  \n",
    "`set.discard(item)`: Removes the specified item from the set if it is present.  \n",
    "`set.union(set2)`: Returns a new set containing all items from both sets.  \n",
    "`set.intersection(set2)`: Returns a new set containing items present in both sets.  \n"
   ]
  },
  {
   "cell_type": "code",
   "execution_count": 78,
   "metadata": {},
   "outputs": [],
   "source": [
    "empty_set = {}"
   ]
  },
  {
   "cell_type": "code",
   "execution_count": 81,
   "metadata": {},
   "outputs": [],
   "source": [
    "set1 = set('Carlos Carlos Carlos')"
   ]
  },
  {
   "cell_type": "code",
   "execution_count": 82,
   "metadata": {},
   "outputs": [
    {
     "data": {
      "text/plain": [
       "{'a'}"
      ]
     },
     "execution_count": 82,
     "metadata": {},
     "output_type": "execute_result"
    }
   ],
   "source": [
    "set1.intersection({\"a\", \"b\", \"c\", \"d\", \"e\", \"f\"})"
   ]
  },
  {
   "attachments": {},
   "cell_type": "markdown",
   "metadata": {},
   "source": [
    "# Dictionaries -> `dict` or `{}`\n",
    "\n",
    "**Dictionaries are unordered collections of key-value pairs.**  \n",
    "\n",
    "Dictionaries are the hashes in python. They are also objects and allow to store a key-value relationship, as you know the keys in a dictionary or hash must be unique, while the values can be repeated. The flexibility of dictionaries in python allows to have dictionaries that *point* to other data structures such as tuples, lists and even other dictionaries.\n",
    "\n",
    "Note, although it may sometimes appear that the .keys() and .values() methods of a dictionary retain some order and even correspond to each other, simply calling them does not ensure that element 'n' of one is equivalent to element 'n' of the other. \n",
    "\n",
    "`len(dict)`: Returns the number of key-value pairs in the dictionary.  \n",
    "`dict.keys()`: Returns a view object displaying a list of all keys in the dictionary.  \n",
    "`dict.values()`: Returns a view object displaying a list of all values in the dictionary.  \n",
    "`dict.items()`: Returns a view object displaying a list of all key-value pairs in the dictionary as tuples.  \n",
    "`dict.get(key, default)`: Returns the value associated with the specified key. If the key is not found, it returns the default value (or None if no default value is provided).  \n",
    "`dict.update(dict2)`: Updates the dictionary with the key-value pairs from another dictionary, overwriting existing keys with new values.  \n",
    "`dict.pop(key, default)`: Removes and returns the value associated with the specified key. If the key is not found, it returns the default value (or raises a KeyError if no default value is provided).  "
   ]
  },
  {
   "cell_type": "code",
   "execution_count": 80,
   "metadata": {},
   "outputs": [],
   "source": [
    "empty_dictionary = dict()\n",
    "not_empty_dictionary = {\"key\": \"value\"}"
   ]
  },
  {
   "cell_type": "code",
   "execution_count": 83,
   "metadata": {},
   "outputs": [],
   "source": [
    "dict1 = {\"one\":1, \"two\":2, \"three\":3, \"four\":4, \"five\":5}"
   ]
  },
  {
   "cell_type": "code",
   "execution_count": 85,
   "metadata": {},
   "outputs": [
    {
     "data": {
      "text/plain": [
       "['one', 'two', 'three', 'four', 'five']"
      ]
     },
     "execution_count": 85,
     "metadata": {},
     "output_type": "execute_result"
    }
   ],
   "source": [
    "list(dict1.keys())"
   ]
  },
  {
   "cell_type": "code",
   "execution_count": 86,
   "metadata": {},
   "outputs": [
    {
     "data": {
      "text/plain": [
       "[1, 2, 3, 4, 5]"
      ]
     },
     "execution_count": 86,
     "metadata": {},
     "output_type": "execute_result"
    }
   ],
   "source": [
    "list(dict1.values())"
   ]
  },
  {
   "cell_type": "code",
   "execution_count": 88,
   "metadata": {},
   "outputs": [
    {
     "data": {
      "text/plain": [
       "[('one', 1), ('two', 2), ('three', 3), ('four', 4), ('five', 5)]"
      ]
     },
     "execution_count": 88,
     "metadata": {},
     "output_type": "execute_result"
    }
   ],
   "source": [
    "list(dict1.items())"
   ]
  },
  {
   "cell_type": "code",
   "execution_count": 92,
   "metadata": {},
   "outputs": [
    {
     "ename": "KeyError",
     "evalue": "'six'",
     "output_type": "error",
     "traceback": [
      "\u001b[1;31m---------------------------------------------------------------------------\u001b[0m",
      "\u001b[1;31mKeyError\u001b[0m                                  Traceback (most recent call last)",
      "\u001b[1;32mc:\\Users\\2000076134\\OneDrive - Hexaware Technologies\\Documents\\GitHub\\PythonTraining_26-06-2023\\python_basics\\Python_introduction_1.ipynb Cell 50\u001b[0m in \u001b[0;36m<cell line: 1>\u001b[1;34m()\u001b[0m\n\u001b[1;32m----> <a href='vscode-notebook-cell:/c%3A/Users/2000076134/OneDrive%20-%20Hexaware%20Technologies/Documents/GitHub/PythonTraining_26-06-2023/python_basics/Python_introduction_1.ipynb#Y102sZmlsZQ%3D%3D?line=0'>1</a>\u001b[0m dict1[\u001b[39m\"\u001b[39;49m\u001b[39msix\u001b[39;49m\u001b[39m\"\u001b[39;49m]\n",
      "\u001b[1;31mKeyError\u001b[0m: 'six'"
     ]
    }
   ],
   "source": [
    "dict1[\"six\"]"
   ]
  },
  {
   "cell_type": "code",
   "execution_count": 94,
   "metadata": {},
   "outputs": [
    {
     "data": {
      "text/plain": [
       "'Key, is not present'"
      ]
     },
     "execution_count": 94,
     "metadata": {},
     "output_type": "execute_result"
    }
   ],
   "source": [
    "dict1.get(\"six\", \"Key, is not present\")"
   ]
  },
  {
   "cell_type": "code",
   "execution_count": 95,
   "metadata": {},
   "outputs": [
    {
     "data": {
      "text/plain": [
       "3"
      ]
     },
     "execution_count": 95,
     "metadata": {},
     "output_type": "execute_result"
    }
   ],
   "source": [
    "dict1.get(\"three\", \"Key, is not present\")"
   ]
  },
  {
   "attachments": {},
   "cell_type": "markdown",
   "metadata": {},
   "source": [
    "> Content created by [**Carlos Cruz-Maldonado**](https://www.linkedin.com/in/carloscruzmaldonado/).  \n",
    "> I am available to answer any questions or provide further assistance.   \n",
    "> Feel free to reach out to me at any time."
   ]
  }
 ],
 "metadata": {
  "kernelspec": {
   "display_name": "Python 3.7.9 ('personal')",
   "language": "python",
   "name": "python3"
  },
  "language_info": {
   "codemirror_mode": {
    "name": "ipython",
    "version": 3
   },
   "file_extension": ".py",
   "mimetype": "text/x-python",
   "name": "python",
   "nbconvert_exporter": "python",
   "pygments_lexer": "ipython3",
   "version": "3.9.12"
  },
  "orig_nbformat": 4,
  "vscode": {
   "interpreter": {
    "hash": "252948c43895fb2cefa730c41b16e760efc56873c993d09cfc8bab107a8b51fd"
   }
  }
 },
 "nbformat": 4,
 "nbformat_minor": 2
}
