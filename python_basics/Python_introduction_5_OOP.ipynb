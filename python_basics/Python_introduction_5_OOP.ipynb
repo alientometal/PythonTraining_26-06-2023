{
 "cells": [
  {
   "attachments": {},
   "cell_type": "markdown",
   "metadata": {},
   "source": [
    "# Object Oriented Programming"
   ]
  },
  {
   "attachments": {},
   "cell_type": "markdown",
   "metadata": {},
   "source": [
    "## Class\n",
    "\n",
    "In Python, a class is a blueprint or a template for creating objects. It defines a set of attributes and methods that describe the behavior and properties of the objects of that class.\n",
    "\n",
    "### Defining a Class\n",
    "\n",
    "To define a class in Python, you use the `class` keyword followed by the name of the class. It is common convention for class names to start with a capital letter.\n"
   ]
  },
  {
   "cell_type": "code",
   "execution_count": null,
   "metadata": {},
   "outputs": [],
   "source": [
    "class Person:\n",
    "    pass"
   ]
  },
  {
   "attachments": {},
   "cell_type": "markdown",
   "metadata": {},
   "source": [
    "In this example, `Person` is an empty class for now, as indicated by the `pass` keyword."
   ]
  },
  {
   "attachments": {},
   "cell_type": "markdown",
   "metadata": {},
   "source": [
    "\n",
    "### Instance Attributes and Methods\n",
    "\n",
    "A class can have instance attributes (variables) and instance methods (functions).\n",
    "Instance attributes are variables that are unique to each instance, whereas instance methods are functions that can access and modify these attributes.\n",
    "\n",
    "To define instance attributes, you usually initialize them in a special method called `__init__`. This method is automatically called when an object of the class is created.\n",
    "\n",
    "Instance methods can be defined like normal functions, but they must always take at least one argument: `self`. `self` is a reference to the instance that is calling the method.\n"
   ]
  },
  {
   "cell_type": "code",
   "execution_count": null,
   "metadata": {},
   "outputs": [],
   "source": [
    "class Person:\n",
    "    def __init__(self, name, age):\n",
    "        self.name = name\n",
    "        self.age = age\n",
    "\n",
    "    def greet(self):\n",
    "        print(\"Hello, my name is\", self.name)"
   ]
  },
  {
   "attachments": {},
   "cell_type": "markdown",
   "metadata": {},
   "source": [
    "\n",
    "In this example, `name` and `age` are instance attributes. They are initialized in the `__init__` method. `greet` is an instance method that uses the `name` attribute.\n"
   ]
  },
  {
   "attachments": {},
   "cell_type": "markdown",
   "metadata": {},
   "source": [
    "\n",
    "### Creating Instances\n",
    "\n",
    "To create an instance (object) of a class, you call the class as if it were a function, passing the arguments that the `__init__` method expects.\n"
   ]
  },
  {
   "cell_type": "code",
   "execution_count": null,
   "metadata": {},
   "outputs": [],
   "source": [
    "p = Person(\"Noam\", 94)"
   ]
  },
  {
   "attachments": {},
   "cell_type": "markdown",
   "metadata": {},
   "source": [
    "\n",
    "In this example, `p` is an instance of the `Person` class. It has its own `name` and `age` attributes, which are initialized with the values \"Noam\" and 94, respectively.\n"
   ]
  },
  {
   "attachments": {},
   "cell_type": "markdown",
   "metadata": {},
   "source": [
    "\n",
    "### Calling Instance Methods\n",
    "\n",
    "Instance methods can be called on an instance using the dot `.` operator.\n"
   ]
  },
  {
   "cell_type": "code",
   "execution_count": null,
   "metadata": {},
   "outputs": [],
   "source": [
    "p.greet()"
   ]
  },
  {
   "attachments": {},
   "cell_type": "markdown",
   "metadata": {},
   "source": [
    "\n",
    "This calls the `greet` method on the `p` instance, printing \"Hello, my name is Noam\".\n",
    "\n",
    "## Class Attributes and Methods\n",
    "\n",
    "Classes can also have class attributes and class methods. Class attributes are shared by all instances of the class, and class methods work with these attributes. Class methods are defined using the `@classmethod` decorator and they take at least one argument: `cls`, a reference to the class."
   ]
  },
  {
   "attachments": {},
   "cell_type": "markdown",
   "metadata": {},
   "source": [
    "Here's an example:"
   ]
  },
  {
   "cell_type": "code",
   "execution_count": null,
   "metadata": {},
   "outputs": [],
   "source": [
    "class MyClass:\n",
    "    class_var = 0\n",
    "\n",
    "    def __init__(self, inst_var):\n",
    "        self.inst_var = inst_var\n",
    "\n",
    "    @classmethod\n",
    "    def class_method(cls, x):\n",
    "        cls.class_var += x\n",
    "\n",
    "    def instance_method(self):\n",
    "        self.inst_var += 1"
   ]
  },
  {
   "attachments": {},
   "cell_type": "markdown",
   "metadata": {},
   "source": [
    "\n",
    "In this example, we define a class called `MyClass` with a class variable `class_var` and an instance variable `inst_var`. We also define a class method called `class_method()` using the `@classmethod` decorator, which increments the `class_var` variable by the value of its argument. The `instance_method()` method, on the other hand, increments the `inst_var` instance variable.\n",
    "\n",
    "## Static Methods\n",
    "Static methods are methods that don't modify the instance or the class. They are defined using the `@staticmethod` decorator. They don't take a `self` or `cls` argument, so they can't modify the instance or the class, but they can take other arguments and return values. Static methods are typically used as utility functions that are related to the class but do not require access to any instance or class data.\n",
    "\n",
    "Here's an example:"
   ]
  },
  {
   "cell_type": "code",
   "execution_count": null,
   "metadata": {},
   "outputs": [],
   "source": [
    "class MyClass:\n",
    "    @staticmethod\n",
    "    def static_method(x):\n",
    "        return x * 2"
   ]
  },
  {
   "attachments": {},
   "cell_type": "markdown",
   "metadata": {},
   "source": [
    "\n",
    "In this example, we define a class called `MyClass` with a static method called `static_method()`. The method takes an argument `x` and returns `x * 2`. Because the method is a static method, it does not have access to any instance or class data and can be called directly on the class without creating an instance of the class."
   ]
  },
  {
   "attachments": {},
   "cell_type": "markdown",
   "metadata": {},
   "source": [
    "## Inheritance\n",
    "\n",
    "Inheritance is a mechanism that allows you to create a new class based on an existing class. The new class, known as the subclass, inherits the attributes and methods of the existing class, which is known as the superclass. The subclass can also add new attributes and methods or override the ones it has inherited.\n",
    "\n",
    "Inheritance promotes code reuse and is a fundamental part of object-oriented programming. In Python, inheritance is established by passing the parent class as a parameter to the declaration of the child class.\n",
    "\n",
    "To create a subclass in Python, you define a new class that inherits from the superclass using the `super()` function.  \n",
    "\n",
    "Here is an example of a subclass that inherits from the superclass:\n"
   ]
  },
  {
   "cell_type": "code",
   "execution_count": null,
   "metadata": {},
   "outputs": [],
   "source": [
    "class Animal:\n",
    "    def __init__(self, name, sound):\n",
    "        self.name = name\n",
    "        self.sound = sound\n",
    "\n",
    "    def make_sound(self):\n",
    "        print(self.sound)\n",
    "\n",
    "class Dog(Animal):\n",
    "    def __init__(self, name):\n",
    "        super().__init__(name, \"Woof!\")\n",
    "\n",
    "class Cat(Animal):\n",
    "    def __init__(self, name):\n",
    "        super().__init__(name, \"Meow!\")"
   ]
  },
  {
   "attachments": {},
   "cell_type": "markdown",
   "metadata": {},
   "source": [
    "In this example, `Dog` and `Cat` are subclasses of `Animal`. They both inherit the `make_sound` method and `name` attribute from `Animal`. They also each have their own `__init__` method, which calls the `__init__` method of `Animal` using the `super()` function and sets a specific sound for each animal type.\n"
   ]
  },
  {
   "attachments": {},
   "cell_type": "markdown",
   "metadata": {},
   "source": [
    "\n",
    "## Polymorphism\n",
    "\n",
    "Polymorphism allows subclasses to have methods with the same name as those in the superclass. A subclass can provide its own implementation of the method that is already defined in its superclass. This is often called method overriding.\n",
    "\n",
    "Polymorphism is useful when you have a number of objects of related types and you want to execute some action on all of them, but the action might be a little different depending on the type of the object. In Python, polymorphism is achieved through inheritance and method overriding. When a method is called on an object, Python first looks for the method in the class of the object. If it is not found, it looks in the superclass, and so on, until the method is found or there are no more superclasses to search.\n",
    "\n",
    "Here's an example of polymorphism in action:\n"
   ]
  },
  {
   "cell_type": "code",
   "execution_count": null,
   "metadata": {},
   "outputs": [],
   "source": [
    "\n",
    "class Animal:\n",
    "    def __init__(self, name, sound):\n",
    "        self.name = name\n",
    "        self.sound = sound\n",
    "\n",
    "    def make_sound(self):\n",
    "        print(self.sound)\n",
    "\n",
    "class Dog(Animal):\n",
    "    def __init__(self, name):\n",
    "        super().__init__(name, \"Woof!\")\n",
    "\n",
    "class Cat(Animal):\n",
    "    def __init__(self, name):\n",
    "        super().__init__(name, \"Meow!\")\n",
    "\n",
    "def make_animal_sound(animal: Animal):\n",
    "    print(f\"{animal.name} says:\")\n",
    "    animal.make_sound()\n",
    "\n",
    "d = Dog(\"Nova\")\n",
    "c = Cat(\"Octo\")\n",
    "\n",
    "make_animal_sound(d)  # Prints \"Nova says: Woof!\"\n",
    "make_animal_sound(c)  # Prints \"Octo says: Meow!\""
   ]
  },
  {
   "attachments": {},
   "cell_type": "markdown",
   "metadata": {},
   "source": [
    "\n",
    "This example shows polymorphism where `make_animal_sound` function is able to take in different types of `Animal` objects, and call the `make_sound` method on them, yielding different results based on the type of `Animal`.\n"
   ]
  },
  {
   "attachments": {},
   "cell_type": "markdown",
   "metadata": {},
   "source": [
    "\n",
    "## Encapsulation\n",
    "\n",
    "Encapsulation is a way to bundle data with the methods that operate on that data. It restricts access to some of the object's components, which means the object's internal representation can be hidden from outside. In Python, this can be achieved by using private attributes and methods (denoted by a leading underscore) and properties (using the `@property` decorator). This represents `private` and `protected` access modifiers."
   ]
  },
  {
   "cell_type": "code",
   "execution_count": 5,
   "metadata": {},
   "outputs": [],
   "source": [
    "class Circle:\n",
    "    def __init__(self, radius):\n",
    "        self._radius = radius  # Protected attribute\n",
    "\n",
    "    @property\n",
    "    def radius(self):\n",
    "        \"\"\"Getter for radius\"\"\"\n",
    "        return self._radius\n",
    "\n",
    "    @radius.setter\n",
    "    def radius(self, value):\n",
    "        \"\"\"Setter for radius, with validation\"\"\"\n",
    "        if value < 0:\n",
    "            raise ValueError(\"Radius cannot be negative\")\n",
    "        self._radius = value"
   ]
  },
  {
   "attachments": {},
   "cell_type": "markdown",
   "metadata": {},
   "source": [
    "In this example, `Circle` class has a protected attribute `_radius`. Outside objects can access and modify this attribute through the `radius` property, which includes validation in the setter method. If an attempt is made to set `radius` to a negative number, a `ValueError` is raised. This is encapsulation in practice, where data (`_radius`) and methods that operate on that data (`radius.setter`) are bound together, and there is control over the access and modification of the data."
   ]
  },
  {
   "attachments": {},
   "cell_type": "markdown",
   "metadata": {},
   "source": [
    "## Additional examples\n",
    "\n",
    "Here's an example of class hierarchy that demonstrates inheritance:\n",
    "\n",
    "```python\n",
    "class Animal:\n",
    "    def __init__(self, species):\n",
    "        self.species = species\n",
    "\n",
    "    def move(self):\n",
    "        print(f\"The {self.species} moves.\")\n",
    "\n",
    "class Bird(Animal):\n",
    "    def __init__(self, species):\n",
    "        super().__init__(species)\n",
    "\n",
    "    def fly(self):\n",
    "        print(f\"The {self.species} flies.\")\n",
    "\n",
    "class Fish(Animal):\n",
    "    def __init__(self, species):\n",
    "        super().__init__(species)\n",
    "\n",
    "    def swim(self):\n",
    "        print(f\"The {self.species} swims.\")\n",
    "```\n",
    "In this example, we define three classes: `Animal`, `Bird`, and `Fish`. The `Bird` and `Fish` classes inherit from the `Animal` class.\n",
    "\n",
    "The `Animal` class has an `__init__()` method that takes a `species` argument, which is stored as an instance variable. It also has a `move()` method, which prints a message indicating that the animal moves.\n",
    "\n",
    "The `Bird` class inherits from the `Animal` class and has its own `__init__()` method that calls the parent class's `__init__()` method using `super()`. It also has a `fly()` method, which prints a message indicating that the bird flies.\n",
    "\n",
    "The `Fish` class also inherits from the `Animal` class and has its own `__init__()` method that calls the parent class's `__init__()` method using `super()`. It also has a `swim()` method, which prints a message indicating that the fish swims.\n",
    "\n",
    "By using inheritance, we can reuse the code from the `Animal` class in the `Bird` and `Fish` classes, while adding additional functionality specific to each subclass.\n"
   ]
  },
  {
   "attachments": {},
   "cell_type": "markdown",
   "metadata": {},
   "source": [
    "\n",
    "> Content created by [**Carlos Cruz-Maldonado**](https://www.linkedin.com/in/carloscruzmaldonado/).  \n",
    "> I am available to answer any questions or provide further assistance.   \n",
    "> Feel free to reach out to me at any time."
   ]
  }
 ],
 "metadata": {
  "kernelspec": {
   "display_name": "personal",
   "language": "python",
   "name": "python3"
  },
  "language_info": {
   "codemirror_mode": {
    "name": "ipython",
    "version": 3
   },
   "file_extension": ".py",
   "mimetype": "text/x-python",
   "name": "python",
   "nbconvert_exporter": "python",
   "pygments_lexer": "ipython3",
   "version": "3.9.12"
  },
  "orig_nbformat": 4,
  "vscode": {
   "interpreter": {
    "hash": "252948c43895fb2cefa730c41b16e760efc56873c993d09cfc8bab107a8b51fd"
   }
  }
 },
 "nbformat": 4,
 "nbformat_minor": 2
}
