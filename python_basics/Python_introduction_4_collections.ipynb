{
 "cells": [
  {
   "attachments": {},
   "cell_type": "markdown",
   "metadata": {},
   "source": [
    "# Collections Library\n",
    "\n",
    "The Python collections module is a built-in module that implements specialized container data types providing alternatives to Python’s general-purpose built-in containers like list, tuple, and dict.\n",
    "\n",
    "### namedtuple()\n",
    "\n",
    "* `namedtuple()` is a function which generates a subclass of tuple with named fields.\n"
   ]
  },
  {
   "cell_type": "code",
   "execution_count": 1,
   "metadata": {},
   "outputs": [
    {
     "name": "stdout",
     "output_type": "stream",
     "text": [
      "Bob\n",
      "30\n"
     ]
    }
   ],
   "source": [
    "from collections import namedtuple\n",
    "\n",
    "# define a namedtuple type 'Person' with fields 'name' and 'age'\n",
    "Person = namedtuple('Person', 'name age')\n",
    "\n",
    "# Create an instance of Person\n",
    "bob = Person(name='Bob', age=30)\n",
    "\n",
    "# Access fields by their name.\n",
    "print(bob.name)\n",
    "print(bob.age)"
   ]
  },
  {
   "attachments": {},
   "cell_type": "markdown",
   "metadata": {},
   "source": [
    "\n",
    "## deque\n",
    "\n",
    "* `deque` is a list optimized for inserting and removing items.\n"
   ]
  },
  {
   "cell_type": "code",
   "execution_count": 2,
   "metadata": {},
   "outputs": [
    {
     "name": "stdout",
     "output_type": "stream",
     "text": [
      "deque(['h', 'e', 'l', 'l', 'o'])\n",
      "deque(['h', 'e', 'l', 'l', 'o', 'j'])\n",
      "deque(['5', 'h', 'e', 'l', 'l', 'o', 'j'])\n",
      "deque(['5', 'h', 'e', 'l', 'l', 'o'])\n",
      "deque(['h', 'e', 'l', 'l', 'o'])\n"
     ]
    }
   ],
   "source": [
    "from collections import deque\n",
    "\n",
    "# create a deque\n",
    "d = deque('hello')\n",
    "print(d)\n",
    "\n",
    "# append to the right\n",
    "d.append('j')\n",
    "print(d)\n",
    "\n",
    "# append to the left\n",
    "d.appendleft('5')\n",
    "print(d)\n",
    "\n",
    "# pop from the right\n",
    "d.pop()\n",
    "print(d)\n",
    "\n",
    "# pop from the left\n",
    "d.popleft()\n",
    "print(d)"
   ]
  },
  {
   "attachments": {},
   "cell_type": "markdown",
   "metadata": {},
   "source": [
    "\n",
    "## Counter\n",
    "\n",
    "* `Counter` is a dict subclass for counting hashable objects."
   ]
  },
  {
   "cell_type": "code",
   "execution_count": 3,
   "metadata": {},
   "outputs": [
    {
     "name": "stdout",
     "output_type": "stream",
     "text": [
      "5\n",
      "Counter({'a': 5, 'b': 4, 'c': 3, 'd': 2, 'e': 1})\n"
     ]
    }
   ],
   "source": [
    "from collections import Counter\n",
    "\n",
    "# Create a counter object\n",
    "c = Counter('abcdeabcdabcaba')\n",
    "\n",
    "# get count of a specific object\n",
    "print(c['a'])\n",
    "\n",
    "# get count of all objects\n",
    "print(c)"
   ]
  },
  {
   "cell_type": "code",
   "execution_count": 4,
   "metadata": {},
   "outputs": [
    {
     "data": {
      "text/plain": [
       "Counter({'a': 5, 'b': 4, 'c': 3, 'd': 2, 'e': 1})"
      ]
     },
     "execution_count": 4,
     "metadata": {},
     "output_type": "execute_result"
    }
   ],
   "source": [
    "Counter(list('abcdeabcdabcaba'))"
   ]
  },
  {
   "attachments": {},
   "cell_type": "markdown",
   "metadata": {},
   "source": [
    "\n",
    "## OrderedDict\n",
    "\n",
    "* `OrderedDict` is a dict subclass that remembers the order entries were added. In Python 3.7 and later, this is a part of the built-in `dict` class.\n"
   ]
  },
  {
   "cell_type": "code",
   "execution_count": 5,
   "metadata": {},
   "outputs": [
    {
     "name": "stdout",
     "output_type": "stream",
     "text": [
      "OrderedDict([('a', 1), ('b', 2), ('c', 3)])\n"
     ]
    }
   ],
   "source": [
    "from collections import OrderedDict\n",
    "\n",
    "# create an ordered dictionary\n",
    "od = OrderedDict()\n",
    "od['a'] = 1\n",
    "od['b'] = 2\n",
    "od['c'] = 3\n",
    "print(od)"
   ]
  },
  {
   "cell_type": "code",
   "execution_count": 6,
   "metadata": {},
   "outputs": [
    {
     "data": {
      "text/plain": [
       "1"
      ]
     },
     "execution_count": 6,
     "metadata": {},
     "output_type": "execute_result"
    }
   ],
   "source": [
    "od[\"a\"]"
   ]
  },
  {
   "attachments": {},
   "cell_type": "markdown",
   "metadata": {},
   "source": [
    "\n",
    "## defaultdict\n",
    "\n",
    "* `defaultdict` is a dict subclass that calls a factory function to supply missing values\n"
   ]
  },
  {
   "cell_type": "code",
   "execution_count": 7,
   "metadata": {},
   "outputs": [
    {
     "name": "stdout",
     "output_type": "stream",
     "text": [
      "0\n",
      "defaultdict(<class 'int'>, {'missing_key': 0, 'foo': 1})\n"
     ]
    }
   ],
   "source": [
    "from collections import defaultdict\n",
    "\n",
    "# Create a defaultdict with int as factory function.\n",
    "# int() returns 0, so missing values will be set to 0.\n",
    "dd = defaultdict(int)\n",
    "\n",
    "# accessing a missing key will return 0\n",
    "print(dd['missing_key'])\n",
    "\n",
    "# add a key-value pair\n",
    "dd['foo'] = 1\n",
    "print(dd)"
   ]
  },
  {
   "attachments": {},
   "cell_type": "markdown",
   "metadata": {},
   "source": [
    "\n",
    "The collections module is very useful for working with large datasets, it's optimized for performance and can save a lot of work.\n"
   ]
  },
  {
   "attachments": {},
   "cell_type": "markdown",
   "metadata": {},
   "source": [
    "\n",
    "> Content created by [**Carlos Cruz-Maldonado**](https://www.linkedin.com/in/carloscruzmaldonado/).  \n",
    "> I am available to answer any questions or provide further assistance.   \n",
    "> Feel free to reach out to me at any time."
   ]
  }
 ],
 "metadata": {
  "kernelspec": {
   "display_name": "personal",
   "language": "python",
   "name": "python3"
  },
  "language_info": {
   "codemirror_mode": {
    "name": "ipython",
    "version": 3
   },
   "file_extension": ".py",
   "mimetype": "text/x-python",
   "name": "python",
   "nbconvert_exporter": "python",
   "pygments_lexer": "ipython3",
   "version": "3.9.12"
  },
  "orig_nbformat": 4
 },
 "nbformat": 4,
 "nbformat_minor": 2
}
