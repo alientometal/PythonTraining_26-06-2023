{
 "cells": [
  {
   "attachments": {},
   "cell_type": "markdown",
   "metadata": {},
   "source": [
    "# Receiving Data\n",
    "\n",
    "Normally you will receive data by opening files, rarely using the arguments from the terminal and very rarely directly from the keyboard. However we will detail how to get data from the keyboard and then opening files, we will not review getting parameters from the terminal."
   ]
  },
  {
   "attachments": {},
   "cell_type": "markdown",
   "metadata": {},
   "source": [
    "## Keyboard o stidn"
   ]
  },
  {
   "cell_type": "code",
   "execution_count": null,
   "metadata": {},
   "outputs": [],
   "source": [
    "a = input(\"Input your number: \")\n",
    "print(a)"
   ]
  },
  {
   "attachments": {},
   "cell_type": "markdown",
   "metadata": {},
   "source": [
    "## Opening Files  \n",
    "\n",
    "File handling is an important aspect of programming, as it allows you to read from and write to files on your computer. In Python, you can use the built-in `open` function to open a file and perform various operations, such as reading from or writing to the file.\n",
    "\n",
    "### Reading\n",
    "Here's an example of how to read the contents of a file:\n"
   ]
  },
  {
   "cell_type": "code",
   "execution_count": 1,
   "metadata": {},
   "outputs": [],
   "source": [
    "import os"
   ]
  },
  {
   "cell_type": "code",
   "execution_count": 5,
   "metadata": {},
   "outputs": [
    {
     "data": {
      "text/plain": [
       "'data/Marketing_raw_data.csv'"
      ]
     },
     "execution_count": 5,
     "metadata": {},
     "output_type": "execute_result"
    }
   ],
   "source": [
    "\"data/Marketing_raw_data.csv\""
   ]
  },
  {
   "cell_type": "code",
   "execution_count": 9,
   "metadata": {},
   "outputs": [
    {
     "data": {
      "text/plain": [
       "['Marketing_Raw_Data.csv',\n",
       " 'mortgage_rates.csv',\n",
       " 'mortgage_rates_with_errors.csv',\n",
       " 'XML_transactions']"
      ]
     },
     "execution_count": 9,
     "metadata": {},
     "output_type": "execute_result"
    }
   ],
   "source": [
    "os.listdir(\"../data\")"
   ]
  },
  {
   "cell_type": "code",
   "execution_count": 10,
   "metadata": {},
   "outputs": [
    {
     "data": {
      "text/plain": [
       "['..\\\\data\\\\Marketing_Raw_Data.csv',\n",
       " '..\\\\data\\\\mortgage_rates.csv',\n",
       " '..\\\\data\\\\mortgage_rates_with_errors.csv']"
      ]
     },
     "execution_count": 10,
     "metadata": {},
     "output_type": "execute_result"
    }
   ],
   "source": [
    "[os.path.join(\"..\", \"data\", file_csv) for file_csv in os.listdir(\"../data\") if file_csv.endswith(\".csv\")] "
   ]
  },
  {
   "cell_type": "code",
   "execution_count": 12,
   "metadata": {},
   "outputs": [
    {
     "data": {
      "text/plain": [
       "[('../data/XML_transactions/',\n",
       "  ['07062023',\n",
       "   '08062023',\n",
       "   '09062023',\n",
       "   '10062023',\n",
       "   '11062023',\n",
       "   '12062023',\n",
       "   '13062023',\n",
       "   '14062023',\n",
       "   '15062023',\n",
       "   '16062023'],\n",
       "  []),\n",
       " ('../data/XML_transactions/07062023', [], ['transactions_2023-06-07.xml']),\n",
       " ('../data/XML_transactions/08062023', [], ['transactions_2023-06-08.xml']),\n",
       " ('../data/XML_transactions/09062023', [], ['transactions_2023-06-09.xml']),\n",
       " ('../data/XML_transactions/10062023', [], ['transactions_2023-06-10.xml']),\n",
       " ('../data/XML_transactions/11062023', [], ['transactions_2023-06-11.xml']),\n",
       " ('../data/XML_transactions/12062023', [], ['transactions_2023-06-12.xml']),\n",
       " ('../data/XML_transactions/13062023', [], ['transactions_2023-06-13.xml']),\n",
       " ('../data/XML_transactions/14062023', [], ['transactions_2023-06-14.xml']),\n",
       " ('../data/XML_transactions/15062023', [], ['transactions_2023-06-15.xml']),\n",
       " ('../data/XML_transactions/16062023', [], ['transactions_2023-06-16.xml'])]"
      ]
     },
     "execution_count": 12,
     "metadata": {},
     "output_type": "execute_result"
    }
   ],
   "source": [
    "list(os.walk(\"../data/XML_transactions/\"))"
   ]
  },
  {
   "cell_type": "code",
   "execution_count": 8,
   "metadata": {},
   "outputs": [
    {
     "name": "stdout",
     "output_type": "stream",
     "text": [
      "Date,Day_Name,Visitors,Revenue,Marketing Spend,Promo\n",
      "09/11/2020,Monday,707,5211,651.375,No Promo\n",
      "10/11/2020,Tuesday,1455,10386,1298.25,Promotion Red\n",
      "11/11/2020,Wednesday,1520,12475,1559.375,Promotion Blue\n",
      "12/11/2020,Thursday,1726,14414,1801.75,No Promo\n",
      "13/11/2020,Friday,2134,20916,2614.5,No Promo\n",
      "14/11/2020,Saturday,1316,12996,1444,Promotion Blue\n",
      "15/11/2020,Sunday,1287,11929,1325.444444,Promotion Blue\n",
      "16/11/2020,Monday,1548,10072,1119.111111,No Promo\n",
      "17/11/2020,Tuesday,1448,12016,1092.363636,Promotion Blue\n",
      "18/11/2020,Wednesday,1362,9067,906.7,No Promo\n",
      "19/11/2020,Thursday,2321,17660,1605.454545,No Promo\n",
      "20/11/2020,Friday,1819,15188,1687.555556,Promotion Red\n",
      "21/11/2020,Saturday,1180,7813,710.2727273,No Promo\n",
      "22/11/2020,Sunday,2138,21963,2745.375,Promotion Red\n",
      "23/11/2020,Monday,2632,34278,4284.75,Promotion Blue\n",
      "24/11/2020,Tuesday,1752,18650,1695.454545,Promotion Blue\n",
      "25/11/2020,Wednesday,627,5574,696.75,Promotion Blue\n",
      "26/11/2020,Thursday,2105,17294,1572.181818,Promotion Red\n",
      "27/11/2020,Friday,1671,14760,1845,Promotion Red\n",
      "28/11/2020,Saturday,1105,8091,899,Promotion Red\n",
      "29/11/2020,Sunday,1698,10647,1330.875,Promotion Red\n",
      "30/11/2020,Monday,1541,9144,1016,No Promo\n",
      "01/12/2020,Tuesday,1245,8307,923,No Promo\n",
      "02/12/2020,Wednesday,1955,14254,1425.4,Promotion Red\n",
      "03/12/2020,Thursday,2171,16644,1664.4,No Promo\n",
      "04/12/2020,Friday,1975,20607,2575.875,Promotion Blue\n",
      "05/12/2020,Saturday,1186,7765,776.5,No Promo\n",
      "06/12/2020,Sunday,1822,10075,915.9090909,Promotion Red\n",
      "07/12/2020,Monday,1584,9612,961.2,Promotion Red\n",
      "08/12/2020,Tuesday,1961,11601,1450.125,No Promo\n",
      "09/12/2020,Wednesday,2464,16300,1811.111111,No Promo\n",
      "10/12/2020,Thursday,2394,17740,1971.111111,No Promo\n",
      "11/12/2020,Friday,1322,10140,1267.5,No Promo\n",
      "12/12/2020,Saturday,1167,9097,1010.777778,Promotion Blue\n",
      "13/12/2020,Sunday,1163,8802,880.2,Promotion Blue\n",
      "14/12/2020,Monday,1772,11679,1297.666667,Promotion Red\n",
      "15/12/2020,Tuesday,1740,11952,1086.545455,Promotion Red\n",
      "16/12/2020,Wednesday,1317,9213,1023.666667,No Promo\n",
      "17/12/2020,Thursday,2330,17618,1601.636364,No Promo\n",
      "18/12/2020,Friday,2056,18161,2270.125,Promotion Blue\n",
      "19/12/2020,Saturday,1191,8800,880,Promotion Red\n",
      "20/12/2020,Sunday,1828,11737,1304.111111,No Promo\n",
      "21/12/2020,Monday,1605,12038,1203.8,Promotion Blue\n",
      "22/12/2020,Tuesday,1571,10245,1024.5,Promotion Red\n",
      "23/12/2020,Wednesday,1288,11817,1181.7,Promotion Blue\n",
      "24/12/2020,Thursday,2556,19550,1955,No Promo\n",
      "25/12/2020,Friday,2152,21031,2336.777778,Promotion Blue\n",
      "26/12/2020,Saturday,2678,36283,4535.375,Promotion Blue\n",
      "27/12/2020,Sunday,2020,23014,2557.111111,Promotion Blue\n",
      "28/12/2020,Monday,1480,8611,782.8181818,No Promo\n",
      "29/12/2020,Tuesday,1226,7793,779.3,Promotion Red\n",
      "30/12/2020,Wednesday,1328,9180,918,Promotion Red\n",
      "31/12/2020,Thursday,2295,19280,2410,No Promo\n",
      "01/01/2021,Friday,2032,21428,1948,Promotion Blue\n",
      "02/01/2021,Saturday,1030,9062,1006.888889,Promotion Blue\n",
      "03/01/2021,Sunday,1442,9952,1244,Promotion Blue\n",
      "04/01/2021,Monday,1476,8563,1070.375,No Promo\n",
      "05/01/2021,Tuesday,1272,9418,856.1818182,Promotion Red\n",
      "06/01/2021,Wednesday,2054,25766,2862.888889,Promotion Red\n",
      "07/01/2021,Thursday,4139,30146,3014.6,No Promo\n",
      "08/01/2021,Friday,2286,15962,1596.2,No Promo\n",
      "09/01/2021,Saturday,1371,11249,1406.125,Promotion Blue\n",
      "10/01/2021,Sunday,1484,12129,1516.125,Promotion Red\n",
      "11/01/2021,Monday,1571,7300,912.5,No Promo\n",
      "12/01/2021,Tuesday,1454,8702,870.2,Promotion Red\n",
      "13/01/2021,Wednesday,1243,7509,834.3333333,No Promo\n",
      "14/01/2021,Thursday,2753,22797,2072.454545,Promotion Red\n",
      "15/01/2021,Friday,2312,21245,2655.625,Promotion Blue\n",
      "16/01/2021,Saturday,1414,11699,1169.9,Promotion Blue\n",
      "17/01/2021,Sunday,1524,9602,960.2,Promotion Red\n",
      "18/01/2021,Monday,1469,8633,784.8181818,Promotion Red\n",
      "19/01/2021,Tuesday,1302,7287,728.7,Promotion Red\n",
      "20/01/2021,Wednesday,1659,9261,841.9090909,No Promo\n",
      "21/01/2021,Thursday,2120,14770,1641.111111,No Promo\n",
      "22/01/2021,Friday,2482,24417,2713,Promotion Blue\n",
      "23/01/2021,Saturday,1820,11329,1029.909091,No Promo\n",
      "24/01/2021,Sunday,1628,12445,1244.5,Promotion Red\n",
      "25/01/2021,Monday,1430,10925,1365.625,Promotion Blue\n",
      "26/01/2021,Tuesday,488,2898,322,No Promo\n",
      "27/01/2021,Wednesday,1084,7049,881.125,No Promo\n",
      "28/01/2021,Thursday,1864,12832,1425.777778,No Promo\n",
      "29/01/2021,Friday,1844,13024,1447.111111,No Promo\n",
      "30/01/2021,Saturday,1065,7074,786,No Promo\n",
      "31/01/2021,Sunday,1582,9316,1035.111111,No Promo\n",
      "01/02/2021,Monday,1407,10479,1047.9,Promotion Blue\n",
      "02/02/2021,Tuesday,1496,12783,1162.090909,Promotion Blue\n",
      "03/02/2021,Wednesday,2176,18678,1698,Promotion Blue\n",
      "04/02/2021,Thursday,2010,14696,1336,No Promo\n",
      "05/02/2021,Friday,2015,17661,2207.625,Promotion Red\n",
      "06/02/2021,Saturday,1488,9095,909.5,Promotion Red\n",
      "07/02/2021,Sunday,1608,9199,836.2727273,No Promo\n",
      "08/02/2021,Monday,1337,9294,929.4,No Promo\n",
      "09/02/2021,Tuesday,2266,20860,2317.777778,Promotion Blue\n",
      "10/02/2021,Wednesday,1925,13602,1511.333333,Promotion Blue\n",
      "11/02/2021,Thursday,826,6546,818.25,No Promo\n",
      "12/02/2021,Friday,1387,10310,937.2727273,No Promo\n",
      "13/02/2021,Saturday,599,3392,424,No Promo\n",
      "14/02/2021,Sunday,968,5772,524.7272727,Promotion Red\n",
      "15/02/2021,Monday,1482,9987,907.9090909,Promotion Red\n",
      "16/02/2021,Tuesday,1420,8422,935.7777778,No Promo\n",
      "17/02/2021,Wednesday,1171,7809,780.9,No Promo\n",
      "18/02/2021,Thursday,2395,24247,3030.875,Promotion Blue\n",
      "19/02/2021,Friday,2029,14706,1336.909091,No Promo\n",
      "20/02/2021,Saturday,1047,6427,803.375,No Promo\n",
      "21/02/2021,Sunday,1464,7462,829.1111111,No Promo\n",
      "22/02/2021,Monday,1428,8371,837.1,No Promo\n",
      "23/02/2021,Tuesday,1154,9135,1015,Promotion Red\n",
      "24/02/2021,Wednesday,1841,13719,1371.9,Promotion Blue\n",
      "25/02/2021,Thursday,2248,20237,2529.625,Promotion Blue\n",
      "26/02/2021,Friday,2553,26608,2418.909091,Promotion Blue\n",
      "27/02/2021,Saturday,1797,12789,1278.9,Promotion Red\n",
      "28/02/2021,Sunday,1912,12036,1337.333333,No Promo\n",
      "01/03/2021,Monday,1786,13212,1468,Promotion Blue\n",
      "02/03/2021,Tuesday,1096,6155,615.5,No Promo\n",
      "03/03/2021,Wednesday,1068,8223,822.3,Promotion Red\n",
      "04/03/2021,Thursday,1976,16727,1672.7,Promotion Blue\n",
      "05/03/2021,Friday,1806,15474,1719.333333,Promotion Blue\n",
      "06/03/2021,Saturday,1621,12850,1427.777778,Promotion Blue\n",
      "07/03/2021,Sunday,1001,6681,668.1,No Promo\n",
      "08/03/2021,Monday,1477,8338,926.4444444,No Promo\n",
      "09/03/2021,Tuesday,1401,8569,779,No Promo\n",
      "10/03/2021,Wednesday,2190,17752,1613.818182,Promotion Red\n",
      "11/03/2021,Thursday,2439,25704,2570.4,Promotion Blue\n",
      "12/03/2021,Friday,2220,15302,1912.75,No Promo\n",
      "13/03/2021,Saturday,2732,28196,3524.5,Promotion Blue\n",
      "14/03/2021,Sunday,967,7878,787.8,Promotion Blue\n",
      "15/03/2021,Monday,1544,8083,734.8181818,No Promo\n",
      "16/03/2021,Tuesday,1455,7518,939.75,No Promo\n",
      "17/03/2021,Wednesday,2194,14608,1826,No Promo\n",
      "18/03/2021,Thursday,1923,14909,1490.9,Promotion Red\n",
      "19/03/2021,Friday,685,5903,590.3,Promotion Red\n",
      "20/03/2021,Saturday,543,4169,521.125,Promotion Red\n",
      "21/03/2021,Sunday,1472,9486,862.3636364,Promotion Red\n",
      "22/03/2021,Monday,1368,9209,1151.125,Promotion Red\n",
      "23/03/2021,Tuesday,1454,11494,1277.111111,Promotion Blue\n",
      "24/03/2021,Wednesday,2080,15190,1519,Promotion Red\n",
      "25/03/2021,Thursday,2611,22701,2837.625,Promotion Red\n",
      "26/03/2021,Friday,2434,22587,2258.7,Promotion Blue\n",
      "27/03/2021,Saturday,1437,7820,868.8888889,No Promo\n",
      "28/03/2021,Sunday,1642,14587,1620.777778,Promotion Blue\n",
      "29/03/2021,Monday,1320,9262,842,Promotion Red\n",
      "30/03/2021,Tuesday,1363,7794,866,No Promo\n",
      "31/03/2021,Wednesday,2068,14957,1869.625,Promotion Red\n",
      "01/04/2021,Thursday,2311,23368,2921,Promotion Blue\n",
      "02/04/2021,Friday,2091,15782,1972.75,No Promo\n",
      "03/04/2021,Saturday,1532,12027,1336.333333,Promotion Red\n",
      "04/04/2021,Sunday,1406,7545,754.5,No Promo\n",
      "05/04/2021,Monday,1180,8396,763.2727273,Promotion Red\n",
      "06/04/2021,Tuesday,1244,8828,882.8,Promotion Red\n",
      "07/04/2021,Wednesday,1812,16777,1677.7,Promotion Red\n",
      "08/04/2021,Thursday,2273,19843,1803.909091,Promotion Red\n",
      "09/04/2021,Friday,2158,23870,2652.222222,Promotion Blue\n",
      "10/04/2021,Saturday,1625,10431,1043.1,No Promo\n",
      "11/04/2021,Sunday,1485,11221,1020.090909,Promotion Blue\n",
      "12/04/2021,Monday,1499,10027,1114.111111,Promotion Red\n",
      "13/04/2021,Tuesday,1511,11484,1148.4,Promotion Blue\n",
      "14/04/2021,Wednesday,1803,16347,1634.7,Promotion Blue\n",
      "15/04/2021,Thursday,2101,15828,1758.666667,No Promo\n",
      "16/04/2021,Friday,1915,14714,1337.636364,No Promo\n",
      "17/04/2021,Saturday,1509,9520,865.4545455,No Promo\n",
      "18/04/2021,Sunday,1399,12251,1531.375,Promotion Blue\n",
      "19/04/2021,Monday,1648,9645,964.5,Promotion Red\n",
      "20/04/2021,Tuesday,1154,7058,784.2222222,No Promo\n",
      "21/04/2021,Wednesday,1122,6591,732.3333333,No Promo\n",
      "22/04/2021,Thursday,2302,24506,2227.818182,Promotion Blue\n",
      "23/04/2021,Friday,1942,14358,1595.333333,No Promo\n",
      "24/04/2021,Saturday,1345,9360,850.9090909,Promotion Red\n",
      "25/04/2021,Sunday,1166,11650,1059.090909,Promotion Blue\n",
      "26/04/2021,Monday,1105,8438,843.8,No Promo\n",
      "27/04/2021,Tuesday,1256,8046,731.4545455,Promotion Red\n",
      "28/04/2021,Wednesday,1236,9540,1060,Promotion Blue\n",
      "29/04/2021,Thursday,2139,22655,2059.545455,Promotion Blue\n",
      "30/04/2021,Friday,1836,19167,1916.7,Promotion Blue\n",
      "01/05/2021,Saturday,1380,8862,805.6363636,No Promo\n",
      "02/05/2021,Sunday,1423,12111,1513.875,Promotion Red\n",
      "03/05/2021,Monday,1382,11273,1024.818182,Promotion Red\n",
      "04/05/2021,Tuesday,2152,13805,1533.888889,No Promo\n",
      "05/05/2021,Wednesday,1400,11196,1119.6,No Promo\n",
      "06/05/2021,Thursday,2244,18611,2067.888889,Promotion Red\n",
      "07/05/2021,Friday,2023,14502,1450.2,No Promo\n",
      "08/05/2021,Saturday,1483,8975,1121.875,No Promo\n",
      "09/05/2021,Sunday,1303,6968,871,No Promo\n",
      "\n"
     ]
    }
   ],
   "source": [
    "file_path = os.path.join(\"..\", \"data\", \"Marketing_Raw_Data.csv\")\n",
    "# Open the file in read mode\n",
    "with open(file_path, \"r\") as file_handler:\n",
    "    # Read the contents of the file\n",
    "    contents = file_handler.read()\n",
    "    print(contents)"
   ]
  },
  {
   "attachments": {},
   "cell_type": "markdown",
   "metadata": {},
   "source": [
    "\n",
    "In this example, the `open` function is used to open the file \"file.txt\" in read mode (denoted by the `\"r\"` argument). The `with` statement is used to ensure that the file is properly closed, even if an exception is raised during the execution of the code block. The `file.read()` method is then used to read the `contents` of the file and store them in the contents variable. Finally, the contents are printed to the console.\n",
    "\n",
    "### Writing\n",
    "Here's an example of how to write to a file:"
   ]
  },
  {
   "cell_type": "code",
   "execution_count": 26,
   "metadata": {},
   "outputs": [],
   "source": [
    "\n",
    "# Open the file in write mode\n",
    "with open(\"file.txt\", \"w\") as file_handler:\n",
    "    # Write to the file\n",
    "    #file_handler.write(\"Hello, World!\")\n",
    "    print(\"Hello, World with print!!\", file=file_handler)\n"
   ]
  },
  {
   "attachments": {},
   "cell_type": "markdown",
   "metadata": {},
   "source": [
    "\n",
    "In this example, the `open` function is used to open the file \"file.txt\" in write mode (denoted by the `\"w\"` argument). The `with` statement is used to ensure that the file is properly closed, even if an exception is raised during the execution of the code block. The `file.write` method is then used to write the string \"Hello, World!\" to the file.\n",
    "\n",
    "### Options to open a file\n",
    "\n",
    "Here is a table of the options available for reading a file in Python using the `open` function:\n",
    "\n",
    "Option | Description\n",
    "------- | -----------\n",
    "\"r\" | Open the file for reading (default).\n",
    "\"w\" | Open the file for writing. If the file already exists, its contents will be overwritten. If the file does not exist, a new file will be created.\n",
    "\"a\" | Open the file for appending. Any new data written to the file will be added to the end of the file, without overwriting its existing contents.\n",
    "\"x\" | Open the file for exclusive creation. If the file already exists, an error will be raised. This option is only available in Python 3.3 and later.\n",
    "\"b\" | Open the file in binary mode. The file contents are read as binary data and can be manipulated as bytes.\n",
    "\"+\" | Open the file for both reading and writing.\n",
    "\n",
    "### Other ways to open a file\n",
    "Python allows to open files in an easy and simple way, there is more than one way to do it and depending on the order and care you take it doesn't matter which one you use (but I will recommend you to use the `with` statement), here is a way to do it in which you must close the file explicitly after using it.\n",
    "\n",
    "```python\n",
    "file_handler = open(\"file.txt\", \"r\") # Open the file\n",
    "count_lines = 0\n",
    "for line in file_handler:\n",
    "    # Conditions were set so that the entire file would not be printed.\n",
    "    if icount_lines > 9:\n",
    "        break\n",
    "    else:\n",
    "        print(line)\n",
    "        count_lines += 1\n",
    "file_handler.close()\n",
    "```\n"
   ]
  },
  {
   "attachments": {},
   "cell_type": "markdown",
   "metadata": {},
   "source": [
    "### With statement\n",
    "The `with` statement in Python is a convenient way to manage resources, such as file handles, network connections, and other objects that need to be cleaned up after they are used. The `with` statement provides a way to wrap the use of a resource with a block of code, ensuring that the resource is automatically cleaned up even if an exception is raised.\n",
    "\n",
    "The general syntax for the with statement is as follows:\n",
    "```python\n",
    "with expression [as variable]:\n",
    "    # code to use resource here\n",
    "```\n",
    "The expression is an object that provides the `__enter__` and `__exit__` methods. The `__enter__` method is called when the block of code is entered, and it returns the resource to be used in the block. The `__exit__` method is called when the block is exited, and it is responsible for cleaning up the resource."
   ]
  },
  {
   "cell_type": "code",
   "execution_count": null,
   "metadata": {},
   "outputs": [],
   "source": [
    "with open() as file_handler: # Insert the path to the file you want to open\n",
    "    i = 0\n",
    "    for line in file_handler:\n",
    "        # Conditions were set so that the entire file would not be printed.\n",
    "        if i > 9:\n",
    "            break\n",
    "        else:\n",
    "            print(line)\n",
    "            i = i + 1"
   ]
  },
  {
   "cell_type": "code",
   "execution_count": null,
   "metadata": {},
   "outputs": [],
   "source": [
    "for line in file_handler:\n",
    "    print(line)"
   ]
  },
  {
   "attachments": {},
   "cell_type": "markdown",
   "metadata": {},
   "source": [
    "As you can see the file was closed even though it was never made explicit that the file should be closed, if there had been an error in the middle of the code this would have protected it. The operation of the object `with` is based on the fact that the object that is receiving to initialize itself (remember that in python everything is objects) has two methods, `__enter__` that is in charge of executing the code and making a return and `__exit__` that is in charge of closing or freeing the memory independently of the result."
   ]
  },
  {
   "attachments": {},
   "cell_type": "markdown",
   "metadata": {},
   "source": [
    "> Content created by **Carlos Cruz-Maldonado**.  \n",
    "> Feel free to ping me at any time."
   ]
  },
  {
   "attachments": {},
   "cell_type": "markdown",
   "metadata": {},
   "source": []
  }
 ],
 "metadata": {
  "kernelspec": {
   "display_name": "personal",
   "language": "python",
   "name": "python3"
  },
  "language_info": {
   "codemirror_mode": {
    "name": "ipython",
    "version": 3
   },
   "file_extension": ".py",
   "mimetype": "text/x-python",
   "name": "python",
   "nbconvert_exporter": "python",
   "pygments_lexer": "ipython3",
   "version": "3.9.12"
  },
  "orig_nbformat": 4,
  "vscode": {
   "interpreter": {
    "hash": "252948c43895fb2cefa730c41b16e760efc56873c993d09cfc8bab107a8b51fd"
   }
  }
 },
 "nbformat": 4,
 "nbformat_minor": 2
}
