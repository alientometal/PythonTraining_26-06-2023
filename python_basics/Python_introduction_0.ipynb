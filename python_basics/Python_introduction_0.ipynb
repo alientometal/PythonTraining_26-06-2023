{
 "cells": [
  {
   "attachments": {},
   "cell_type": "markdown",
   "metadata": {},
   "source": [
    "# About Python\n",
    "\n",
    "Python is a high-level programming language, which integrates several programming paradigms and allows you to work quickly, easily and integratively.  \n",
    "The Zen of Python is a collection of 19 guiding principles or software design philosophies for writing computer programs in Python (it was intended to have 20 aphorisms, only 19 have been written down). It was written by Tim Peters, a prominent Python developer. These principles emphasize simplicity, readability, and elegance in code. \n",
    "\n",
    "They are included in the PEP 20 – The Zen of Python. PEP stands for Python Enhancement Proposal, and there are several of them. A PEP is a document that describes new features proposed for Python and documents aspects of Python, like design and style, for the community. [PEP 20 here](https://peps.python.org/pep-0020/)  \n",
    "\n",
    "To see the full list of principles, you can run the following command in the Python interpreter:"
   ]
  },
  {
   "cell_type": "code",
   "execution_count": null,
   "metadata": {},
   "outputs": [],
   "source": [
    "import this # This is how we import modules in Python"
   ]
  },
  {
   "attachments": {},
   "cell_type": "markdown",
   "metadata": {},
   "source": [
    "Some of the key principles from the Zen of Python include:\n",
    "\n",
    "    Beautiful is better than ugly.\n",
    "    Explicit is better than implicit.\n",
    "    Simple is better than complex.\n",
    "    Complex is better than complicated.\n",
    "    Readability counts.\n",
    "\n",
    "These principles have greatly influenced the design of the Python language and its ecosystem, making Python code generally more readable and easier to maintain."
   ]
  },
  {
   "attachments": {},
   "cell_type": "markdown",
   "metadata": {},
   "source": [
    "### Python Enhancement Proposal\n",
    "\n",
    "Most important and influential Python Enhancement Proposals (PEPs) over the years:\n",
    "\n",
    "* PEP 8: Style Guide for Python Code. This PEP provides guidelines for writing Python code that is consistent, readable, and easy to maintain. It covers topics such as naming conventions, code layout, and programming practices.\n",
    "* PEP 20: The Zen of Python. This PEP outlines the guiding principles of the Python language and its community, including simplicity, readability, and the importance of practicality over purity.\n",
    "* PEP 257: Docstring Conventions. This PEP provides guidelines for writing documentation strings (docstrings) that describe the purpose, usage, and behavior of Python modules, functions, classes, and methods.\n",
    "* PEP 484: Type Hints. This PEP introduces a syntax for adding optional type hints to Python code, which can be used by static type checkers to catch common errors before code is run.\n",
    "* PEP 3101: Advanced String Formatting. This PEP introduces a powerful new syntax for formatting strings in Python, which makes it easier to write complex output such as tables, reports, and emails.\n",
    "* PEP 498: Literal String Interpolation. This PEP introduces a simpler syntax for formatting strings in Python, which allows expressions to be embedded directly in string literals using a new f-string syntax.\n",
    "* PEP 572: Assignment Expressions. This PEP introduces a new syntax for assigning a value to a variable as part of a larger expression, which makes it easier to write concise, readable code in some situations.\n",
    "* PEP 3107: Function Annotations. This PEP introduces a syntax for adding optional annotations to Python function signatures, which can be used to document the expected types of arguments and return values, as well as for other purposes such as automatic API generation and debugging.  \n",
    "  \n",
    "[PEP 1 - Purpose and Guidelines](https://peps.python.org/pep-0001/)  \n",
    "[Source and more about PEP](https://onestopdataanalysis.com/python-pep-cheatsheet/)\n"
   ]
  },
  {
   "attachments": {},
   "cell_type": "markdown",
   "metadata": {},
   "source": [
    "# Python features\n",
    "The purpose of python is to provide a simple, yet powerful language. It can be used for web programming, GUI development, scientific and numerical applications, software development and much more.  \n",
    "\n",
    "Python has its own important features to take into account:\n",
    "\n",
    "- It is an interpreted language\n",
    "- Of course it is a zero-based language (you count 0, 1, 2, 3, 4.... n-1)\n",
    "- Dynamically typed (assumes the data type).\n",
    "- Strongly typed (data is not automatically inter-converted, you must be explicit)\n",
    "- Nested code blocks are distinguished **by the code identation**.\n",
    "- Code can be easily converted into modules or libraries\n",
    "- Python supports object-oriented programming with classes and multiple inheritances.\n",
    "- The language supports raising and catching exceptions, resulting in cleaner error handling\n",
    "- Python contains advanced programming features such as generators and list comprehensions. \n",
    "- Python's automatic memory management frees you from having to manually allocate and free memory in your code. "
   ]
  },
  {
   "attachments": {},
   "cell_type": "markdown",
   "metadata": {},
   "source": [
    "# Python Installation\n",
    "\n",
    "Python is easy to install, from personal experience we recommend to keep **ONE** python installation (unless you understand perfectly what you are doing). Currently Python 3.x is the most widely used, as support for Python 2.x has ended. "
   ]
  },
  {
   "attachments": {},
   "cell_type": "markdown",
   "metadata": {},
   "source": [
    "# Jupyter Notebooks\n",
    "Jupyter Notebooks are a tool that allows coding, segmenting, documenting, and testing code dynamically. This tool is very versatile, because it allows to separate the code in cells and add documentation or report elements to make a perfect documentation. It also allows to add elements in markdown typing and html format, so it becomes a powerful tool to insert formatted text, images and graphics."
   ]
  },
  {
   "attachments": {},
   "cell_type": "markdown",
   "metadata": {},
   "source": [
    "# Basics of variable identifiers\n",
    "\n",
    "Variable identifiers follow very basic rules:\n",
    "\n",
    "1. They must start with an underscore (_) or some letter.\n",
    "2. They can contain letters, digits and underscores\n",
    "3. They can be of any length\n",
    "4. They cannot be **Python keywords**.\n",
    "\n",
    "# Python Variables  \n",
    "Python has several types of variables natively. Starting with numeric variables, Python can work with integers, floating numbers and complex numbers. It also has strings to work with text and another type of variables called booleans to store binary values.\n",
    "\n",
    "The way we declare variables is as follows:\n",
    "\n",
    "`variable_name = <value>`\n",
    "\n",
    "The name of a variable cannot have spaces, it must start with a letter, it can contain capital letters or numbers inside the name.\n",
    "Example:\n",
    "\n",
    "`my_dog = \"Nova\"`\n",
    "\n",
    "Also keep in mind that in python **everything** is an object, even elements such as integers, floats and other *variables* so all identifiers are actually references to objects that contain the value among other attributes and methods.  \n",
    "\n",
    "Example of assigning a value to a variable, and how it is an object by having its own methods:"
   ]
  },
  {
   "cell_type": "code",
   "execution_count": null,
   "metadata": {},
   "outputs": [],
   "source": [
    "x=1500\n",
    "print(x.bit_length())\n",
    "print(x.conjugate())\n",
    "print(x.numerator)\n",
    "print(x.denominator)"
   ]
  },
  {
   "attachments": {},
   "cell_type": "markdown",
   "metadata": {},
   "source": [
    "As you can see, despite appearing to be just a variable with an assigned value, x is actually an object with a series of attributes (object properties such as numerator and denominator) and methods (functions associated to objects as in this case bit_length and conjugate). This provides a huge advantage when working with complex structures.  \n",
    "\n",
    "Python allows to assign simultaneously to several variables and even to invert them in a fast way, many functions especially of the statistical packages work with this type of assignment. What is really happening is that the function returns a vector with the values and the multiple assignment is in charge of assigning in an orderly way the elements of the vector to each one of the identifiers.  \n",
    "\n",
    "Example:"
   ]
  },
  {
   "cell_type": "code",
   "execution_count": null,
   "metadata": {},
   "outputs": [],
   "source": [
    "x, y = 1, 2\n",
    "print(x,y)"
   ]
  },
  {
   "cell_type": "code",
   "execution_count": null,
   "metadata": {},
   "outputs": [],
   "source": [
    "x, y = y, x\n",
    "print(x, y)"
   ]
  },
  {
   "attachments": {},
   "cell_type": "markdown",
   "metadata": {},
   "source": [
    "# Hello World!"
   ]
  },
  {
   "attachments": {},
   "cell_type": "markdown",
   "metadata": {},
   "source": [
    "We will use Python's input and output functions to create our first hello world.\n",
    "\n",
    "You just need to execute the following cell with code by pressing the _play_ button or pressing `Shift + Enter` on your keyboard."
   ]
  },
  {
   "cell_type": "code",
   "execution_count": null,
   "metadata": {},
   "outputs": [],
   "source": [
    "# Hello world in Python:\n",
    "your_name = input(\"Please write your name: \")\n",
    "print(f\"Say hello to the world, {your_name}!\")"
   ]
  },
  {
   "attachments": {},
   "cell_type": "markdown",
   "metadata": {},
   "source": [
    "> Content created by [**Carlos Cruz-Maldonado**](https://www.linkedin.com/in/carloscruzmaldonado/).  \n",
    "> I am available to answer any questions or provide further assistance.   \n",
    "> Feel free to reach out to me at any time."
   ]
  }
 ],
 "metadata": {
  "kernelspec": {
   "display_name": "Python 3.7.9 ('personal')",
   "language": "python",
   "name": "python3"
  },
  "language_info": {
   "codemirror_mode": {
    "name": "ipython",
    "version": 3
   },
   "file_extension": ".py",
   "mimetype": "text/x-python",
   "name": "python",
   "nbconvert_exporter": "python",
   "pygments_lexer": "ipython3",
   "version": "3.9.12"
  },
  "orig_nbformat": 4,
  "vscode": {
   "interpreter": {
    "hash": "252948c43895fb2cefa730c41b16e760efc56873c993d09cfc8bab107a8b51fd"
   }
  }
 },
 "nbformat": 4,
 "nbformat_minor": 2
}
