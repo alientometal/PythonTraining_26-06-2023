{
 "cells": [
  {
   "attachments": {},
   "cell_type": "markdown",
   "metadata": {},
   "source": [
    "# Functions\n",
    "\n",
    "In python it is possible to define functions and procedures (which are ultimately also objects). A function is a group of related statements that perform a specific task. Functions help break our program into smaller and modular chunks. As our program grows larger and more complex, functions make it more organized and manageable.\n",
    "\n",
    "A function is defined using the `def` keyword, followed by the function name and a set of parentheses that can contain arguments. The code within the function must be indented and is executed when the function is called.\n",
    "\n",
    "The basic syntax for defining a function in Python is:\n",
    "```python\n",
    "def function_name(arguments):\n",
    "    # code to be executed when the function is called\n",
    "```\n",
    "\n",
    "\n",
    "Then, these functions can be grouped and converted into a module. A library will represent a collection of related modules.  \n",
    "\n",
    "Here is an example of how to create a function, it will take a number and return the succession of fibonacci in that number:"
   ]
  },
  {
   "cell_type": "code",
   "execution_count": 21,
   "metadata": {},
   "outputs": [],
   "source": [
    "def fibonacci_function(n): # how to define a function\n",
    "    '''Putting this is very important, because it is a string that acts as documentation of the function.\n",
    "    In it you can detail inputs, parameters and outputs.\n",
    "    This way people when typing the function and pressing shift+tab can read this and know how it works (try it).'''\n",
    "    if n==0:\n",
    "        return(1) # Functions always return something even if it is an empty element or a 'None'.\n",
    "    elif n==1:\n",
    "        return(1) # If it is a procedure, then something is not returned.\n",
    "    else:\n",
    "        return(fibonacci_function(n-1)+fibonacci_function(n-2))"
   ]
  },
  {
   "cell_type": "code",
   "execution_count": 3,
   "metadata": {},
   "outputs": [
    {
     "name": "stdout",
     "output_type": "stream",
     "text": [
      "1\n",
      "1\n",
      "2\n",
      "3\n",
      "5\n"
     ]
    }
   ],
   "source": [
    "for i in range(5):\n",
    "    print(fibonacci_function(i))"
   ]
  },
  {
   "cell_type": "code",
   "execution_count": 22,
   "metadata": {},
   "outputs": [
    {
     "data": {
      "text/plain": [
       "[1, 1, 2, 3, 5]"
      ]
     },
     "execution_count": 22,
     "metadata": {},
     "output_type": "execute_result"
    }
   ],
   "source": [
    "[fibonacci_function(number) for number in range(5)]"
   ]
  },
  {
   "cell_type": "code",
   "execution_count": 1,
   "metadata": {},
   "outputs": [
    {
     "name": "stdout",
     "output_type": "stream",
     "text": [
      "Overwriting fibonacci.py\n"
     ]
    }
   ],
   "source": [
    "%%writefile fibonacci.py\n",
    "\n",
    "def fibonacci_function_module(n): # how to define a function\n",
    "    '''Putting this is very important, because it is a string that acts as documentation of the function.\n",
    "    In it you can detail inputs, parameters and outputs.\n",
    "    This way people when typing the function and pressing shift+tab can read this and know how it works (try it).'''\n",
    "    if n==0:\n",
    "        return(1) # Functions always return something even if it is an empty element or a 'None'.\n",
    "    elif n==1:\n",
    "        return(1) # If it is a procedure, then something is not returned.\n",
    "    else:\n",
    "        return(fibonacci_function_module(n-1)+fibonacci_function_module(n-2))\n",
    "\n",
    "def print_name():\n",
    "    print(__name__)\n",
    "\n",
    "# Main program\n",
    "def main():\n",
    "    \n",
    "    print_name()\n",
    "    \n",
    "    for i in range(10):\n",
    "        print(fibonacci_function_module(i)) \n",
    "\n",
    "if __name__ == \"__main__\":\n",
    "    \n",
    "    main()"
   ]
  },
  {
   "cell_type": "code",
   "execution_count": 18,
   "metadata": {},
   "outputs": [
    {
     "name": "stdout",
     "output_type": "stream",
     "text": [
      "__main__\n",
      "1\n",
      "1\n",
      "2\n",
      "3\n",
      "5\n",
      "8\n",
      "13\n",
      "21\n",
      "34\n",
      "55\n"
     ]
    }
   ],
   "source": [
    "%run fibonacci.py"
   ]
  },
  {
   "cell_type": "code",
   "execution_count": 2,
   "metadata": {},
   "outputs": [
    {
     "name": "stdout",
     "output_type": "stream",
     "text": [
      "fibonacci\n"
     ]
    }
   ],
   "source": [
    "fib.print_name()"
   ]
  },
  {
   "cell_type": "code",
   "execution_count": 2,
   "metadata": {},
   "outputs": [
    {
     "name": "stdout",
     "output_type": "stream",
     "text": [
      "I'm outside the execution scope\n"
     ]
    }
   ],
   "source": [
    "import fibonacci"
   ]
  },
  {
   "cell_type": "code",
   "execution_count": 6,
   "metadata": {},
   "outputs": [
    {
     "data": {
      "text/plain": [
       "'overridden'"
      ]
     },
     "execution_count": 6,
     "metadata": {},
     "output_type": "execute_result"
    }
   ],
   "source": [
    "fibonacci.int"
   ]
  },
  {
   "cell_type": "code",
   "execution_count": 4,
   "metadata": {},
   "outputs": [],
   "source": [
    "from fibonacci import *"
   ]
  },
  {
   "cell_type": "code",
   "execution_count": 7,
   "metadata": {},
   "outputs": [
    {
     "data": {
      "text/plain": [
       "'overridden'"
      ]
     },
     "execution_count": 7,
     "metadata": {},
     "output_type": "execute_result"
    }
   ],
   "source": [
    "int"
   ]
  },
  {
   "cell_type": "code",
   "execution_count": 8,
   "metadata": {},
   "outputs": [
    {
     "ename": "TypeError",
     "evalue": "'str' object is not callable",
     "output_type": "error",
     "traceback": [
      "\u001b[1;31m---------------------------------------------------------------------------\u001b[0m",
      "\u001b[1;31mTypeError\u001b[0m                                 Traceback (most recent call last)",
      "\u001b[1;32mc:\\Users\\2000076134\\OneDrive - Hexaware Technologies\\Documents\\GitHub\\PythonTraining_26-06-2023\\python_basics\\Python_introduction_3.ipynb Cell 12\u001b[0m in \u001b[0;36m<cell line: 1>\u001b[1;34m()\u001b[0m\n\u001b[1;32m----> <a href='vscode-notebook-cell:/c%3A/Users/2000076134/OneDrive%20-%20Hexaware%20Technologies/Documents/GitHub/PythonTraining_26-06-2023/python_basics/Python_introduction_3.ipynb#X24sZmlsZQ%3D%3D?line=0'>1</a>\u001b[0m \u001b[39mint\u001b[39;49m(\u001b[39m\"\u001b[39;49m\u001b[39m3\u001b[39;49m\u001b[39m\"\u001b[39;49m)\n",
      "\u001b[1;31mTypeError\u001b[0m: 'str' object is not callable"
     ]
    }
   ],
   "source": [
    "int(\"3\")"
   ]
  },
  {
   "cell_type": "code",
   "execution_count": 22,
   "metadata": {},
   "outputs": [],
   "source": [
    "%reload_ext fibonacci"
   ]
  },
  {
   "cell_type": "code",
   "execution_count": 9,
   "metadata": {},
   "outputs": [
    {
     "name": "stdout",
     "output_type": "stream",
     "text": [
      "1\n",
      "1\n",
      "2\n",
      "3\n",
      "5\n"
     ]
    }
   ],
   "source": [
    "for i in range(5):\n",
    "    print(fib.fibonacci_function_module(i))"
   ]
  },
  {
   "cell_type": "code",
   "execution_count": 15,
   "metadata": {},
   "outputs": [],
   "source": [
    "from fibonacci import fibonacci_function_module"
   ]
  },
  {
   "cell_type": "code",
   "execution_count": 16,
   "metadata": {},
   "outputs": [
    {
     "name": "stdout",
     "output_type": "stream",
     "text": [
      "1\n",
      "1\n",
      "2\n",
      "3\n",
      "5\n"
     ]
    }
   ],
   "source": [
    "for i in range(5):\n",
    "    print(fibonacci_function_module(i)) "
   ]
  },
  {
   "attachments": {},
   "cell_type": "markdown",
   "metadata": {},
   "source": [
    "Information can be passed into functions as arguments.\n",
    "\n",
    "Arguments are specified after the function name, inside the parentheses. You can add as many arguments as you want, just separate them with a comma. \n",
    "\n",
    "Parameters:\n",
    "- positional\n",
    "- by keyword\n",
    "\n",
    "Arguments are often shortened to \"args\" in Python documentations.\n",
    "The terms parameter and argument can be used for the same thing: information that are passed into a function.\n",
    "\n",
    "From a function's perspective:\n",
    "\n",
    "- A parameter is the variable listed inside the parentheses in the function definition.\n",
    "- An argument is the value that is sent to the function when it is called.\n",
    "\n",
    "If you do not know how many arguments will be passed into your function, add a * before the parameter name in the function definition.\n",
    "This way the function will receive a tuple of arguments, and can access the items accordingly.\n",
    "\n",
    "If you do not know how many keyword arguments will be passed into your function, add two asterisk: ** before the parameter name in the function definition.\n",
    "This way the function will receive a dictionary of arguments, and can access the items accordingly:"
   ]
  },
  {
   "cell_type": "code",
   "execution_count": 17,
   "metadata": {},
   "outputs": [],
   "source": [
    "# Try the different ways to pass arguments to a function\n",
    "\n",
    "def new_function(postitional1, **optional2):\n",
    "    print(postitional1, optional2, optional2.get(\"other\"))"
   ]
  },
  {
   "cell_type": "code",
   "execution_count": 19,
   "metadata": {},
   "outputs": [
    {
     "name": "stdout",
     "output_type": "stream",
     "text": [
      "2 {'option': 123} None\n"
     ]
    }
   ],
   "source": [
    "new_function(2, option=123)"
   ]
  },
  {
   "attachments": {},
   "cell_type": "markdown",
   "metadata": {},
   "source": [
    "Also, you can `return` values, which are values returned by the function to the caller."
   ]
  },
  {
   "attachments": {},
   "cell_type": "markdown",
   "metadata": {},
   "source": [
    "Keep in mind that in python all variables are passed by reference, and if they are modified in a function they can be modified globally unless they are immutable objects. So you must be careful and generate copies of the elements if you don't want to modify them *in place*. \n",
    "\n",
    "Once a function works well, and in case it can be used by many people you can build a library with it. Building a library is easy, because it is a text document with extension **.py** which is then converted by a command, to a python module with extension **'.pyc'**."
   ]
  },
  {
   "attachments": {},
   "cell_type": "markdown",
   "metadata": {},
   "source": [
    "> Content created by [**Carlos Cruz-Maldonado**](https://www.linkedin.com/in/carloscruzmaldonado/).  \n",
    "> I am available to answer any questions or provide further assistance.   \n",
    "> Feel free to reach out to me at any time."
   ]
  }
 ],
 "metadata": {
  "kernelspec": {
   "display_name": "labjupyter",
   "language": "python",
   "name": "python3"
  },
  "language_info": {
   "codemirror_mode": {
    "name": "ipython",
    "version": 3
   },
   "file_extension": ".py",
   "mimetype": "text/x-python",
   "name": "python",
   "nbconvert_exporter": "python",
   "pygments_lexer": "ipython3",
   "version": "3.9.12"
  },
  "orig_nbformat": 4,
  "vscode": {
   "interpreter": {
    "hash": "63b9296f6c17991b25300b923073fa09be5a7656821aad9d7c075cf9823913df"
   }
  }
 },
 "nbformat": 4,
 "nbformat_minor": 2
}
