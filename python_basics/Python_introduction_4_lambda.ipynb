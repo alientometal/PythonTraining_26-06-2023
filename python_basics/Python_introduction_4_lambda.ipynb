{
 "cells": [
  {
   "attachments": {},
   "cell_type": "markdown",
   "metadata": {},
   "source": [
    "# **Lambda Functions in Python**\n",
    "\n",
    "Lambda functions, also known as anonymous functions, are small, inline functions that are defined on-the-fly in Python. They can be used wherever function objects are required without needing to be defined using the standard `def` keyword. You can use them for short, small functions that are not going to be used elsewhere in your code.\n",
    "\n",
    "### **Basic Syntax**\n",
    "\n",
    "A lambda function is defined using the `lambda` keyword, followed by a list of arguments, a colon, and then an expression.\n",
    "\n",
    "Here's the basic syntax of a lambda function:\n",
    "\n",
    "```python\n",
    "lambda arguments: expression\n",
    "```\n",
    "\n",
    "This expression is the function body, and it returns the result of this expression. If you have multiple expressions, then you would need to separate them with commas.\n",
    "\n",
    "For example:\n"
   ]
  },
  {
   "cell_type": "code",
   "execution_count": null,
   "metadata": {},
   "outputs": [],
   "source": [
    "# A lambda function that adds 10 to the number passed in as an argument\n",
    "f = lambda x: x + 10\n",
    "print(f(5))  # Output: 15"
   ]
  },
  {
   "attachments": {},
   "cell_type": "markdown",
   "metadata": {},
   "source": [
    "\n",
    "### **Lambda Function with Multiple Arguments**\n",
    "\n",
    "Lambda functions can accept zero, one or more than one arguments but only one expression is allowed.\n"
   ]
  },
  {
   "cell_type": "code",
   "execution_count": null,
   "metadata": {},
   "outputs": [],
   "source": [
    "# A lambda function that multiplies two numbers\n",
    "f = lambda x, y: x * y\n",
    "print(f(2, 3))  # Output: 6"
   ]
  },
  {
   "attachments": {},
   "cell_type": "markdown",
   "metadata": {},
   "source": [
    "\n",
    "### **Lambda functions in Functional Programming Constructs**\n",
    "\n",
    "Lambda functions are frequently used with built-in functions like `filter()`, `map()` and `reduce()`.\n",
    "\n",
    "- **`filter()` :** Constructs an iterator from elements of an iterable for which a function returns true.\n",
    "    \n"
   ]
  },
  {
   "cell_type": "code",
   "execution_count": null,
   "metadata": {},
   "outputs": [],
   "source": [
    "# A list of numbers\n",
    "nums = [1, 2, 3, 4, 5, 6]\n",
    "\n",
    "# Get all the even numbers from the list using filter()\n",
    "evens = filter(lambda x: x % 2 == 0, nums)\n",
    "print(list(evens))  # Output: [2, 4, 6]"
   ]
  },
  {
   "attachments": {},
   "cell_type": "markdown",
   "metadata": {},
   "source": [
    "- **`map()` :** Applies a given function to each item of an iterable and returns a list of the results.\n",
    "    \n"
   ]
  },
  {
   "cell_type": "code",
   "execution_count": null,
   "metadata": {},
   "outputs": [],
   "source": [
    "# A list of numbers\n",
    "nums = [1, 2, 3, 4, 5, 6]\n",
    "\n",
    "# Get the square of each number using map()\n",
    "squares = map(lambda x: x ** 2, nums)\n",
    "print(list(squares))  # Output: [1, 4, 9, 16, 25, 36]"
   ]
  },
  {
   "attachments": {},
   "cell_type": "markdown",
   "metadata": {},
   "source": [
    "- **`reduce()` :** Applies a rolling computation to sequential pairs of values in a list and returns a single result.\n",
    "    \n"
   ]
  },
  {
   "cell_type": "code",
   "execution_count": null,
   "metadata": {},
   "outputs": [],
   "source": [
    "from functools import reduce\n",
    "\n",
    "# A list of numbers\n",
    "nums = [1, 2, 3, 4, 5]\n",
    "\n",
    "# Get the product of all numbers using reduce()\n",
    "product = reduce(lambda x, y: x * y, nums)\n",
    "print(product)  # Output: 120"
   ]
  },
  {
   "attachments": {},
   "cell_type": "markdown",
   "metadata": {},
   "source": [
    "\n",
    "Lambda functions can be really powerful when combined with functional constructs like `map()`, `filter()`, and `reduce()`. Remember, the power of lambda is better shown when you use them as an anonymous function inside another function."
   ]
  },
  {
   "attachments": {},
   "cell_type": "markdown",
   "metadata": {},
   "source": [
    "> Content created by [**Carlos Cruz-Maldonado**](https://www.linkedin.com/in/carloscruzmaldonado/).  \n",
    "> I am available to answer any questions or provide further assistance.   \n",
    "> Feel free to reach out to me at any time.  "
   ]
  }
 ],
 "metadata": {
  "kernelspec": {
   "display_name": "personal",
   "language": "python",
   "name": "python3"
  },
  "language_info": {
   "codemirror_mode": {
    "name": "ipython",
    "version": 3
   },
   "file_extension": ".py",
   "mimetype": "text/x-python",
   "name": "python",
   "nbconvert_exporter": "python",
   "pygments_lexer": "ipython3",
   "version": "3.7.9"
  },
  "orig_nbformat": 4
 },
 "nbformat": 4,
 "nbformat_minor": 2
}
