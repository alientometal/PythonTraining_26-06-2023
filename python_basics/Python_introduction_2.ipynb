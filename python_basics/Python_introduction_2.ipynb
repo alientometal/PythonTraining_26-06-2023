{
 "cells": [
  {
   "attachments": {},
   "cell_type": "markdown",
   "metadata": {},
   "source": [
    "# Control Structures"
   ]
  },
  {
   "attachments": {},
   "cell_type": "markdown",
   "metadata": {},
   "source": [
    "## Conditional Statements\n",
    "\n",
    "So far, we know how to define variables, so we can create slightly more advanced code blocks. The first thing we want to do is create a new variable called `under_age` and we will need to define it using a contitional statement. To do this, it will be useful to remember the comparison operators (`<, >, <=, >=, ==, !=`).\n",
    "\n",
    "The idea is as follows, if the person is a minor, the value of this variable will be ``True`` and will be ``False`` in the other case.\n",
    "\n",
    "Conditional statements (if-else): This allows a program to execute certain code blocks only if a certain condition is met. The basic syntax for an if-else statement is:\n",
    "\n",
    "```python\n",
    "if condition: # execute code block if condition is True\n",
    "    # Block of code for a satisfied condition. \n",
    "    \n",
    "else: # execute code block if condition is False\n",
    "    # Block of code for a non-satisfied condition. \n",
    "```\n",
    "\n",
    "#### Example:"
   ]
  },
  {
   "cell_type": "code",
   "execution_count": 1,
   "metadata": {},
   "outputs": [
    {
     "name": "stdout",
     "output_type": "stream",
     "text": [
      "Indeed, this dog is black.\n"
     ]
    }
   ],
   "source": [
    "dog_color = \"black\"\n",
    "if dog_color == \"black\":\n",
    "    print(\"Indeed, this dog is black.\")\n",
    "else:\n",
    "    print(\"Nope, it is not a black dog.\")"
   ]
  },
  {
   "attachments": {},
   "cell_type": "markdown",
   "metadata": {},
   "source": [
    "In the case of having more than one condition, we can use `elif` statements:\n",
    "\n",
    "```python\n",
    "if condition_one:\n",
    "    # Block of code for a satisfied condition one\n",
    "elif condition_two:\n",
    "    # Block of code for a satisfied condition two\n",
    "...\n",
    "elif condition_nth:\n",
    "    # Block of code for a satisfied condition nth.\n",
    "else:\n",
    "    # Block of code for non-satisfied conditions.\n",
    "```\n",
    "\n",
    "#### Exercise:\n",
    "\n",
    "Now create a condition to define a new variable called `under_age` that will compare whether the age is greater than or equal to 18 to set it to ``False`` or ``True`` in the other case."
   ]
  },
  {
   "cell_type": "code",
   "execution_count": 4,
   "metadata": {},
   "outputs": [
    {
     "name": "stdout",
     "output_type": "stream",
     "text": [
      "True\n"
     ]
    }
   ],
   "source": [
    "dog_color = \"black\"\n",
    "is_black_dog = dog_color == \"black\"\n",
    "print(is_black_dog)"
   ]
  },
  {
   "cell_type": "code",
   "execution_count": 6,
   "metadata": {},
   "outputs": [
    {
     "name": "stdout",
     "output_type": "stream",
     "text": [
      "True! 30 is greater than 18\n"
     ]
    }
   ],
   "source": [
    "# TODO.\n",
    "# Write a conditional to set the age.\n",
    "\n",
    "age = input(\"Enter your age\")\n",
    "\n",
    "if int(age) > 18:\n",
    "\n",
    "  print(f\"True! {age} is greater than 18\")\n",
    "\n",
    "else:\n",
    "\n",
    "  print(f\"False! {age} Less than 18!\")"
   ]
  },
  {
   "cell_type": "code",
   "execution_count": 15,
   "metadata": {},
   "outputs": [
    {
     "name": "stdout",
     "output_type": "stream",
     "text": [
      "False! 30 is greater than 18\n"
     ]
    }
   ],
   "source": [
    "age = input(\"Enter your age\")\n",
    "\n",
    "under_age = int(age) <= 18\n",
    "\n",
    "if under_age:\n",
    "    print(f\"True! {age} Less than 18!\")\n",
    "    \n",
    "else:\n",
    "  print(f\"False! {age} is greater than 18\")"
   ]
  },
  {
   "attachments": {},
   "cell_type": "markdown",
   "metadata": {},
   "source": [
    "## Loops\n",
    "\n",
    "Iteration means executing the same block of code over and over again. A programming structure that implements iteration is called a loop (or cycle).\n",
    "Loops allow a program to repeat a set of instructions multiple times. \n",
    "\n",
    "There are two types of iteration:\n",
    "\n",
    "* **Defined iteration**, in which the number of iterations is explicitly specified in advance.\n",
    "* **Undefined iteration**, in which the code block is executed until some condition is met.\n",
    "\n",
    "The two main types of loops in Python are `for` loops and `while` loops. Indefinite iteration is performed with a `while` loop and definite iteration is performed with a `for` loop.\n",
    "\n",
    "### For Loop\n",
    "\n",
    "The `for` we have in Python is a special `for` that only acts on iterable objects, that is to say that it does not add to a variable but it goes through a vector element by element.\n",
    "\n",
    "````python\n",
    "for element in sequence:\n",
    "    # execute code block for each element in the sequence\n",
    "````"
   ]
  },
  {
   "attachments": {},
   "cell_type": "markdown",
   "metadata": {},
   "source": [
    "We can iterate through a range of numbers:"
   ]
  },
  {
   "cell_type": "code",
   "execution_count": 17,
   "metadata": {},
   "outputs": [
    {
     "data": {
      "text/plain": [
       "[1, 3, 5, 7, 9, 11, 13, 15, 17, 19]"
      ]
     },
     "execution_count": 17,
     "metadata": {},
     "output_type": "execute_result"
    }
   ],
   "source": [
    "# We create an iterable with the function range\n",
    "# range(start, stop, steps)\n",
    "counting = range(1,20,2)\n",
    "list(counting)"
   ]
  },
  {
   "cell_type": "code",
   "execution_count": 22,
   "metadata": {},
   "outputs": [
    {
     "name": "stdout",
     "output_type": "stream",
     "text": [
      "The current number if iterations is 1\n",
      "The current number if iterations is 3\n",
      "The current number if iterations is 5\n",
      "The current number if iterations is 7\n",
      "The current number if iterations is 9\n",
      "The current number if iterations is 11\n",
      "The current number if iterations is 13\n",
      "The current number if iterations is 15\n",
      "The current number if iterations is 17\n",
      "The current number if iterations is 19\n",
      "done\n"
     ]
    }
   ],
   "source": [
    "for number in counting:\n",
    "    print(f\"The current number if iterations is {number}\")\n",
    "print('done')"
   ]
  },
  {
   "attachments": {},
   "cell_type": "markdown",
   "metadata": {},
   "source": [
    "We can iterate through the elements of a list:"
   ]
  },
  {
   "cell_type": "code",
   "execution_count": 23,
   "metadata": {},
   "outputs": [
    {
     "name": "stdout",
     "output_type": "stream",
     "text": [
      "The current month is January.\n",
      "The current month is February.\n",
      "The current month is March.\n",
      "The current month is April.\n",
      "The current month is May.\n",
      "The current month is June.\n",
      "The current month is July.\n",
      "The current month is August.\n",
      "The current month is September.\n",
      "The current month is October.\n",
      "The current month is November.\n",
      "The current month is December.\n"
     ]
    }
   ],
   "source": [
    "months = [\n",
    "    'January',\n",
    "    'February',\n",
    "    'March',\n",
    "    'April',\n",
    "    'May',\n",
    "    'June',\n",
    "    'July',\n",
    "    'August',\n",
    "    'September',\n",
    "    'October',\n",
    "    'November',\n",
    "    'December',\n",
    "]\n",
    "\n",
    "for month in months:\n",
    "    print(f\"The current month is {month}.\")"
   ]
  },
  {
   "cell_type": "code",
   "execution_count": 36,
   "metadata": {},
   "outputs": [
    {
     "name": "stdout",
     "output_type": "stream",
     "text": [
      "Yay, January\n"
     ]
    }
   ],
   "source": [
    "if \"January\" in months:\n",
    "    print(\"Yay, January\")"
   ]
  },
  {
   "cell_type": "code",
   "execution_count": 37,
   "metadata": {},
   "outputs": [
    {
     "data": {
      "text/plain": [
       "2013184787632"
      ]
     },
     "execution_count": 37,
     "metadata": {},
     "output_type": "execute_result"
    }
   ],
   "source": [
    "id(\"January\")"
   ]
  },
  {
   "cell_type": "code",
   "execution_count": 38,
   "metadata": {},
   "outputs": [],
   "source": [
    "month = \"January\""
   ]
  },
  {
   "cell_type": "code",
   "execution_count": 39,
   "metadata": {},
   "outputs": [
    {
     "data": {
      "text/plain": [
       "2013184787632"
      ]
     },
     "execution_count": 39,
     "metadata": {},
     "output_type": "execute_result"
    }
   ],
   "source": [
    "id(month)"
   ]
  },
  {
   "cell_type": "code",
   "execution_count": 40,
   "metadata": {},
   "outputs": [
    {
     "name": "stderr",
     "output_type": "stream",
     "text": [
      "<>:1: SyntaxWarning: \"is\" with a literal. Did you mean \"==\"?\n",
      "<>:1: SyntaxWarning: \"is\" with a literal. Did you mean \"==\"?\n",
      "C:\\Users\\2000076134\\AppData\\Local\\Temp\\ipykernel_23796\\4242864808.py:1: SyntaxWarning: \"is\" with a literal. Did you mean \"==\"?\n",
      "  month is \"January\"\n"
     ]
    },
    {
     "data": {
      "text/plain": [
       "True"
      ]
     },
     "execution_count": 40,
     "metadata": {},
     "output_type": "execute_result"
    }
   ],
   "source": [
    "month is \"January\""
   ]
  },
  {
   "cell_type": "code",
   "execution_count": 26,
   "metadata": {},
   "outputs": [
    {
     "data": {
      "text/plain": [
       "[(1, 'January'),\n",
       " (2, 'February'),\n",
       " (3, 'March'),\n",
       " (4, 'April'),\n",
       " (5, 'May'),\n",
       " (6, 'June'),\n",
       " (7, 'July'),\n",
       " (8, 'August'),\n",
       " (9, 'September'),\n",
       " (10, 'October'),\n",
       " (11, 'November'),\n",
       " (12, 'December')]"
      ]
     },
     "execution_count": 26,
     "metadata": {},
     "output_type": "execute_result"
    }
   ],
   "source": [
    "list(enumerate(months, 1))"
   ]
  },
  {
   "cell_type": "code",
   "execution_count": 27,
   "metadata": {},
   "outputs": [
    {
     "name": "stdout",
     "output_type": "stream",
     "text": [
      "The current month number is 1, also January.\n",
      "The current month number is 2, also February.\n",
      "The current month number is 3, also March.\n",
      "The current month number is 4, also April.\n",
      "The current month number is 5, also May.\n",
      "The current month number is 6, also June.\n",
      "The current month number is 7, also July.\n",
      "The current month number is 8, also August.\n",
      "The current month number is 9, also September.\n",
      "The current month number is 10, also October.\n",
      "The current month number is 11, also November.\n",
      "The current month number is 12, also December.\n"
     ]
    }
   ],
   "source": [
    "for month_number, month in enumerate(months, 1):\n",
    "    print(f\"The current month number is {month_number}, also {month}.\")"
   ]
  },
  {
   "attachments": {},
   "cell_type": "markdown",
   "metadata": {},
   "source": [
    "That is the basic syntax of a `for`, note that the identation is what tells you which lines of code are part of the `for` iteration.  \n"
   ]
  },
  {
   "attachments": {},
   "cell_type": "markdown",
   "metadata": {},
   "source": [
    "\n",
    "## `continue`, `pass`, and `break` in Python\n",
    "- `break`: Terminates the loop statement and transfers execution to the statement immediately following the loop.\n"
   ]
  },
  {
   "cell_type": "code",
   "execution_count": 29,
   "metadata": {},
   "outputs": [
    {
     "name": "stdout",
     "output_type": "stream",
     "text": [
      "Current Letter : P\n",
      "Current Letter : y\n",
      "Current Letter : t\n",
      "End of iteration\n"
     ]
    }
   ],
   "source": [
    "for letter in 'Python':\n",
    "  if letter == 'h':\n",
    "    break\n",
    "  print('Current Letter :', letter)\n",
    "  \n",
    "print(\"End of iteration\")"
   ]
  },
  {
   "attachments": {},
   "cell_type": "markdown",
   "metadata": {},
   "source": [
    "- `continue`: Causes the loop to skip the remainder of its body and immediately retest its condition prior to reiterating."
   ]
  },
  {
   "cell_type": "code",
   "execution_count": 30,
   "metadata": {},
   "outputs": [
    {
     "name": "stdout",
     "output_type": "stream",
     "text": [
      "Current Letter : P\n",
      "Current Letter : y\n",
      "Current Letter : t\n",
      "Current Letter : o\n",
      "Current Letter : n\n"
     ]
    }
   ],
   "source": [
    "for letter in 'Python':\n",
    "  if letter == 'h':\n",
    "    continue\n",
    "  print('Current Letter :', letter)"
   ]
  },
  {
   "attachments": {},
   "cell_type": "markdown",
   "metadata": {},
   "source": [
    "- `pass`: The pass statement in Python is used when a statement is required syntactically but you do not want any command or code to execute. It is like null operation, as nothing will happen when it is executed."
   ]
  },
  {
   "cell_type": "code",
   "execution_count": 31,
   "metadata": {},
   "outputs": [
    {
     "name": "stdout",
     "output_type": "stream",
     "text": [
      "Current Letter : P\n",
      "Current Letter : y\n",
      "Current Letter : t\n",
      "Current Letter : h\n",
      "Current Letter : o\n",
      "Current Letter : n\n"
     ]
    }
   ],
   "source": [
    "for letter in 'Python':\n",
    "  if letter == 'h':\n",
    "    pass\n",
    "  print('Current Letter :', letter)"
   ]
  },
  {
   "attachments": {},
   "cell_type": "markdown",
   "metadata": {},
   "source": [
    "\n",
    "\n",
    "### While Loop\n",
    "\n",
    "On the other hand the syntax of the `while` loop is similar to that of the `for`, followed by a colon and the block identified in a correct way. \n",
    "\n",
    "`While` loops are used to repeatedly execute a code block as long as a certain condition is met. For a `while` cycle it is important to establish a **stop condition**.  \n",
    "The basic syntax for a while loop is:\n",
    "\n",
    "```python\n",
    "while condition:\n",
    "    # execute code block while condition is True\n",
    "```\n",
    "\n",
    "In this example we use the final value of the variable **i** that was going through the count vector."
   ]
  },
  {
   "cell_type": "code",
   "execution_count": 32,
   "metadata": {},
   "outputs": [
    {
     "name": "stdout",
     "output_type": "stream",
     "text": [
      "0\n",
      "2\n",
      "4\n",
      "6\n",
      "8\n",
      "done\n"
     ]
    }
   ],
   "source": [
    "i = 10\n",
    "x = 0\n",
    "while x < i:\n",
    "    print(x)\n",
    "    x = x + 2\n",
    "print('done')"
   ]
  },
  {
   "attachments": {},
   "cell_type": "markdown",
   "metadata": {},
   "source": [
    "The if has a syntax similar to that of the while, however, it is not necessary to write the condition in brackets, the operators **or** and **and** are written as they are:"
   ]
  },
  {
   "cell_type": "code",
   "execution_count": 33,
   "metadata": {},
   "outputs": [
    {
     "name": "stdout",
     "output_type": "stream",
     "text": [
      "Yes\n"
     ]
    }
   ],
   "source": [
    "a,b = 2,3 # You can modify these numbers to see how the result changes\n",
    "if a>b or b<5:\n",
    "    print(\"Yes\")\n",
    "elif a==b:\n",
    "    print(\"Equal\")\n",
    "else:\n",
    "    print(\"No\")"
   ]
  },
  {
   "attachments": {},
   "cell_type": "markdown",
   "metadata": {},
   "source": [
    "> Content created by [**Carlos Cruz-Maldonado**](https://www.linkedin.com/in/carloscruzmaldonado/).  \n",
    "> I am available to answer any questions or provide further assistance.   \n",
    "> Feel free to reach out to me at any time."
   ]
  }
 ],
 "metadata": {
  "kernelspec": {
   "display_name": "personal",
   "language": "python",
   "name": "python3"
  },
  "language_info": {
   "codemirror_mode": {
    "name": "ipython",
    "version": 3
   },
   "file_extension": ".py",
   "mimetype": "text/x-python",
   "name": "python",
   "nbconvert_exporter": "python",
   "pygments_lexer": "ipython3",
   "version": "3.9.12"
  },
  "orig_nbformat": 4,
  "vscode": {
   "interpreter": {
    "hash": "252948c43895fb2cefa730c41b16e760efc56873c993d09cfc8bab107a8b51fd"
   }
  }
 },
 "nbformat": 4,
 "nbformat_minor": 2
}
